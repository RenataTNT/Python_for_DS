{
 "cells": [
  {
   "cell_type": "code",
   "execution_count": 399,
   "metadata": {},
   "outputs": [],
   "source": [
    "%matplotlib inline\n",
    "import numpy as np\n",
    "import pandas as pd\n",
    "from sklearn.model_selection import train_test_split\n",
    "import matplotlib.pyplot as plt\n",
    "import seaborn as sns\n",
    "import warnings\n",
    "\n",
    "warnings.filterwarnings('ignore')\n",
    "\n",
    "pd.options.display.max_columns = 100\n",
    "\n",
    "plt.style.use('fivethirtyeight')\n",
    "from pylab import rcParams\n",
    "rcParams[\"figure.figsize\"] = 8, 5\n",
    "\n"
   ]
  },
  {
   "cell_type": "code",
   "execution_count": 400,
   "metadata": {},
   "outputs": [],
   "source": [
    "data=pd.read_csv('input/train.csv')"
   ]
  },
  {
   "cell_type": "markdown",
   "metadata": {},
   "source": [
    "Делим данные на train и valid"
   ]
  },
  {
   "cell_type": "code",
   "execution_count": 401,
   "metadata": {},
   "outputs": [],
   "source": [
    "train, valid = train_test_split(data, test_size=0.3, random_state=42)"
   ]
  },
  {
   "cell_type": "code",
   "execution_count": 402,
   "metadata": {},
   "outputs": [
    {
     "data": {
      "text/html": [
       "<div>\n",
       "<style scoped>\n",
       "    .dataframe tbody tr th:only-of-type {\n",
       "        vertical-align: middle;\n",
       "    }\n",
       "\n",
       "    .dataframe tbody tr th {\n",
       "        vertical-align: top;\n",
       "    }\n",
       "\n",
       "    .dataframe thead th {\n",
       "        text-align: right;\n",
       "    }\n",
       "</style>\n",
       "<table border=\"1\" class=\"dataframe\">\n",
       "  <thead>\n",
       "    <tr style=\"text-align: right;\">\n",
       "      <th></th>\n",
       "      <th>Id</th>\n",
       "      <th>DistrictId</th>\n",
       "      <th>Rooms</th>\n",
       "      <th>Square</th>\n",
       "      <th>LifeSquare</th>\n",
       "      <th>KitchenSquare</th>\n",
       "      <th>Floor</th>\n",
       "      <th>HouseFloor</th>\n",
       "      <th>HouseYear</th>\n",
       "      <th>Ecology_1</th>\n",
       "      <th>Ecology_2</th>\n",
       "      <th>Ecology_3</th>\n",
       "      <th>Social_1</th>\n",
       "      <th>Social_2</th>\n",
       "      <th>Social_3</th>\n",
       "      <th>Healthcare_1</th>\n",
       "      <th>Helthcare_2</th>\n",
       "      <th>Shops_1</th>\n",
       "      <th>Shops_2</th>\n",
       "      <th>Price</th>\n",
       "    </tr>\n",
       "  </thead>\n",
       "  <tbody>\n",
       "    <tr>\n",
       "      <th>9069</th>\n",
       "      <td>14604</td>\n",
       "      <td>23</td>\n",
       "      <td>1.0</td>\n",
       "      <td>41.681380</td>\n",
       "      <td>22.796166</td>\n",
       "      <td>8.0</td>\n",
       "      <td>14</td>\n",
       "      <td>17.0</td>\n",
       "      <td>2015</td>\n",
       "      <td>0.075779</td>\n",
       "      <td>B</td>\n",
       "      <td>B</td>\n",
       "      <td>6</td>\n",
       "      <td>1437</td>\n",
       "      <td>3</td>\n",
       "      <td>NaN</td>\n",
       "      <td>0</td>\n",
       "      <td>2</td>\n",
       "      <td>B</td>\n",
       "      <td>88504.384965</td>\n",
       "    </tr>\n",
       "    <tr>\n",
       "      <th>2603</th>\n",
       "      <td>5621</td>\n",
       "      <td>23</td>\n",
       "      <td>3.0</td>\n",
       "      <td>163.495333</td>\n",
       "      <td>161.504222</td>\n",
       "      <td>12.0</td>\n",
       "      <td>5</td>\n",
       "      <td>3.0</td>\n",
       "      <td>1977</td>\n",
       "      <td>0.014073</td>\n",
       "      <td>B</td>\n",
       "      <td>B</td>\n",
       "      <td>2</td>\n",
       "      <td>475</td>\n",
       "      <td>0</td>\n",
       "      <td>NaN</td>\n",
       "      <td>0</td>\n",
       "      <td>0</td>\n",
       "      <td>B</td>\n",
       "      <td>207007.956663</td>\n",
       "    </tr>\n",
       "    <tr>\n",
       "      <th>7738</th>\n",
       "      <td>235</td>\n",
       "      <td>87</td>\n",
       "      <td>1.0</td>\n",
       "      <td>39.710131</td>\n",
       "      <td>19.538663</td>\n",
       "      <td>8.0</td>\n",
       "      <td>4</td>\n",
       "      <td>17.0</td>\n",
       "      <td>1986</td>\n",
       "      <td>0.100456</td>\n",
       "      <td>B</td>\n",
       "      <td>B</td>\n",
       "      <td>43</td>\n",
       "      <td>7227</td>\n",
       "      <td>0</td>\n",
       "      <td>NaN</td>\n",
       "      <td>1</td>\n",
       "      <td>6</td>\n",
       "      <td>A</td>\n",
       "      <td>182126.280899</td>\n",
       "    </tr>\n",
       "    <tr>\n",
       "      <th>1579</th>\n",
       "      <td>16258</td>\n",
       "      <td>48</td>\n",
       "      <td>3.0</td>\n",
       "      <td>96.056784</td>\n",
       "      <td>98.152802</td>\n",
       "      <td>1.0</td>\n",
       "      <td>15</td>\n",
       "      <td>1.0</td>\n",
       "      <td>2017</td>\n",
       "      <td>0.041125</td>\n",
       "      <td>B</td>\n",
       "      <td>B</td>\n",
       "      <td>46</td>\n",
       "      <td>9515</td>\n",
       "      <td>5</td>\n",
       "      <td>NaN</td>\n",
       "      <td>1</td>\n",
       "      <td>10</td>\n",
       "      <td>B</td>\n",
       "      <td>524365.550705</td>\n",
       "    </tr>\n",
       "    <tr>\n",
       "      <th>5058</th>\n",
       "      <td>10773</td>\n",
       "      <td>77</td>\n",
       "      <td>3.0</td>\n",
       "      <td>79.195825</td>\n",
       "      <td>44.421062</td>\n",
       "      <td>10.0</td>\n",
       "      <td>16</td>\n",
       "      <td>17.0</td>\n",
       "      <td>1984</td>\n",
       "      <td>0.298205</td>\n",
       "      <td>B</td>\n",
       "      <td>B</td>\n",
       "      <td>16</td>\n",
       "      <td>4048</td>\n",
       "      <td>3</td>\n",
       "      <td>NaN</td>\n",
       "      <td>1</td>\n",
       "      <td>3</td>\n",
       "      <td>B</td>\n",
       "      <td>322048.433990</td>\n",
       "    </tr>\n",
       "  </tbody>\n",
       "</table>\n",
       "</div>"
      ],
      "text/plain": [
       "         Id  DistrictId  Rooms      Square  LifeSquare  KitchenSquare  Floor  \\\n",
       "9069  14604          23    1.0   41.681380   22.796166            8.0     14   \n",
       "2603   5621          23    3.0  163.495333  161.504222           12.0      5   \n",
       "7738    235          87    1.0   39.710131   19.538663            8.0      4   \n",
       "1579  16258          48    3.0   96.056784   98.152802            1.0     15   \n",
       "5058  10773          77    3.0   79.195825   44.421062           10.0     16   \n",
       "\n",
       "      HouseFloor  HouseYear  Ecology_1 Ecology_2 Ecology_3  Social_1  \\\n",
       "9069        17.0       2015   0.075779         B         B         6   \n",
       "2603         3.0       1977   0.014073         B         B         2   \n",
       "7738        17.0       1986   0.100456         B         B        43   \n",
       "1579         1.0       2017   0.041125         B         B        46   \n",
       "5058        17.0       1984   0.298205         B         B        16   \n",
       "\n",
       "      Social_2  Social_3  Healthcare_1  Helthcare_2  Shops_1 Shops_2  \\\n",
       "9069      1437         3           NaN            0        2       B   \n",
       "2603       475         0           NaN            0        0       B   \n",
       "7738      7227         0           NaN            1        6       A   \n",
       "1579      9515         5           NaN            1       10       B   \n",
       "5058      4048         3           NaN            1        3       B   \n",
       "\n",
       "              Price  \n",
       "9069   88504.384965  \n",
       "2603  207007.956663  \n",
       "7738  182126.280899  \n",
       "1579  524365.550705  \n",
       "5058  322048.433990  "
      ]
     },
     "execution_count": 402,
     "metadata": {},
     "output_type": "execute_result"
    }
   ],
   "source": [
    "train.head()"
   ]
  },
  {
   "cell_type": "markdown",
   "metadata": {},
   "source": [
    "Видим, что есть пропуски в данных. С LifeSquare поработаем, а HealthCare_1 не будем брать в расчет"
   ]
  },
  {
   "cell_type": "code",
   "execution_count": 403,
   "metadata": {},
   "outputs": [
    {
     "name": "stdout",
     "output_type": "stream",
     "text": [
      "<class 'pandas.core.frame.DataFrame'>\n",
      "Int64Index: 7000 entries, 9069 to 7270\n",
      "Data columns (total 20 columns):\n",
      "Id               7000 non-null int64\n",
      "DistrictId       7000 non-null int64\n",
      "Rooms            7000 non-null float64\n",
      "Square           7000 non-null float64\n",
      "LifeSquare       5514 non-null float64\n",
      "KitchenSquare    7000 non-null float64\n",
      "Floor            7000 non-null int64\n",
      "HouseFloor       7000 non-null float64\n",
      "HouseYear        7000 non-null int64\n",
      "Ecology_1        7000 non-null float64\n",
      "Ecology_2        7000 non-null object\n",
      "Ecology_3        7000 non-null object\n",
      "Social_1         7000 non-null int64\n",
      "Social_2         7000 non-null int64\n",
      "Social_3         7000 non-null int64\n",
      "Healthcare_1     3642 non-null float64\n",
      "Helthcare_2      7000 non-null int64\n",
      "Shops_1          7000 non-null int64\n",
      "Shops_2          7000 non-null object\n",
      "Price            7000 non-null float64\n",
      "dtypes: float64(8), int64(9), object(3)\n",
      "memory usage: 1.1+ MB\n"
     ]
    }
   ],
   "source": [
    "train.info()"
   ]
  },
  {
   "cell_type": "code",
   "execution_count": 404,
   "metadata": {},
   "outputs": [
    {
     "data": {
      "text/html": [
       "<div>\n",
       "<style scoped>\n",
       "    .dataframe tbody tr th:only-of-type {\n",
       "        vertical-align: middle;\n",
       "    }\n",
       "\n",
       "    .dataframe tbody tr th {\n",
       "        vertical-align: top;\n",
       "    }\n",
       "\n",
       "    .dataframe thead th {\n",
       "        text-align: right;\n",
       "    }\n",
       "</style>\n",
       "<table border=\"1\" class=\"dataframe\">\n",
       "  <thead>\n",
       "    <tr style=\"text-align: right;\">\n",
       "      <th></th>\n",
       "      <th>Square</th>\n",
       "    </tr>\n",
       "    <tr>\n",
       "      <th>Rooms</th>\n",
       "      <th></th>\n",
       "    </tr>\n",
       "  </thead>\n",
       "  <tbody>\n",
       "    <tr>\n",
       "      <th>0.0</th>\n",
       "      <td>62.714154</td>\n",
       "    </tr>\n",
       "    <tr>\n",
       "      <th>1.0</th>\n",
       "      <td>41.366349</td>\n",
       "    </tr>\n",
       "    <tr>\n",
       "      <th>2.0</th>\n",
       "      <td>56.808238</td>\n",
       "    </tr>\n",
       "    <tr>\n",
       "      <th>3.0</th>\n",
       "      <td>77.128820</td>\n",
       "    </tr>\n",
       "    <tr>\n",
       "      <th>4.0</th>\n",
       "      <td>98.651884</td>\n",
       "    </tr>\n",
       "    <tr>\n",
       "      <th>5.0</th>\n",
       "      <td>103.645574</td>\n",
       "    </tr>\n",
       "    <tr>\n",
       "      <th>6.0</th>\n",
       "      <td>59.414334</td>\n",
       "    </tr>\n",
       "    <tr>\n",
       "      <th>10.0</th>\n",
       "      <td>59.056975</td>\n",
       "    </tr>\n",
       "    <tr>\n",
       "      <th>19.0</th>\n",
       "      <td>42.006046</td>\n",
       "    </tr>\n",
       "  </tbody>\n",
       "</table>\n",
       "</div>"
      ],
      "text/plain": [
       "           Square\n",
       "Rooms            \n",
       "0.0     62.714154\n",
       "1.0     41.366349\n",
       "2.0     56.808238\n",
       "3.0     77.128820\n",
       "4.0     98.651884\n",
       "5.0    103.645574\n",
       "6.0     59.414334\n",
       "10.0    59.056975\n",
       "19.0    42.006046"
      ]
     },
     "execution_count": 404,
     "metadata": {},
     "output_type": "execute_result"
    }
   ],
   "source": [
    "MeanSQByNRooms=train.groupby(['Rooms'])[['Square']].mean()\n",
    "MeanSQByNRooms"
   ]
  },
  {
   "cell_type": "markdown",
   "metadata": {},
   "source": [
    "Видим, что площадь квартир растет при росте комнат от 1 до 5, а на иных значениях количества конат присутствуют явные ошибки в данных:"
   ]
  },
  {
   "cell_type": "code",
   "execution_count": 405,
   "metadata": {},
   "outputs": [
    {
     "data": {
      "text/plain": [
       "<matplotlib.axes._subplots.AxesSubplot at 0x21ead9f6908>"
      ]
     },
     "execution_count": 405,
     "metadata": {},
     "output_type": "execute_result"
    },
    {
     "data": {
      "image/png": "[encoded data removed]",
      "text/plain": [
       "<Figure size 576x360 with 1 Axes>"
      ]
     },
     "metadata": {},
     "output_type": "display_data"
    }
   ],
   "source": [
    "MeanSQByNRooms.plot(kind='bar')"
   ]
  },
  {
   "cell_type": "markdown",
   "metadata": {},
   "source": [
    "Нахождение адекватных границ Sqгare и LifeSquare для определения их соотношения"
   ]
  },
  {
   "cell_type": "code",
   "execution_count": 406,
   "metadata": {},
   "outputs": [
    {
     "data": {
      "text/plain": [
       "<matplotlib.axes._subplots.AxesSubplot at 0x21ead9f65f8>"
      ]
     },
     "execution_count": 406,
     "metadata": {},
     "output_type": "execute_result"
    },
    {
     "data": {
      "image/png": "[encoded data removed]",
      "text/plain": [
       "<Figure size 576x360 with 1 Axes>"
      ]
     },
     "metadata": {},
     "output_type": "display_data"
    }
   ],
   "source": [
    "sns.distplot(train['Square'])"
   ]
  },
  {
   "cell_type": "code",
   "execution_count": 407,
   "metadata": {},
   "outputs": [
    {
     "data": {
      "text/plain": [
       "<matplotlib.axes._subplots.AxesSubplot at 0x21eb2a1e438>"
      ]
     },
     "execution_count": 407,
     "metadata": {},
     "output_type": "execute_result"
    },
    {
     "data": {
      "image/png": "[encoded data removed]",
      "text/plain": [
       "<Figure size 576x360 with 1 Axes>"
      ]
     },
     "metadata": {},
     "output_type": "display_data"
    }
   ],
   "source": [
    "sns.boxplot(data['Square'], orient='v')"
   ]
  },
  {
   "cell_type": "code",
   "execution_count": 408,
   "metadata": {},
   "outputs": [
    {
     "data": {
      "text/plain": [
       "count    10000.000000\n",
       "mean        56.315775\n",
       "std         21.058732\n",
       "min          1.136859\n",
       "25%         41.774881\n",
       "50%         52.513310\n",
       "75%         65.900625\n",
       "max        641.065193\n",
       "Name: Square, dtype: float64"
      ]
     },
     "execution_count": 408,
     "metadata": {},
     "output_type": "execute_result"
    }
   ],
   "source": [
    "data['Square'].describe()"
   ]
  },
  {
   "cell_type": "code",
   "execution_count": 409,
   "metadata": {},
   "outputs": [
    {
     "data": {
      "text/plain": [
       "36.18861600000001"
      ]
     },
     "execution_count": 409,
     "metadata": {},
     "output_type": "execute_result"
    }
   ],
   "source": [
    "IQR=65.900625-41.774881\n",
    "1.5*IQR"
   ]
  },
  {
   "cell_type": "code",
   "execution_count": 410,
   "metadata": {},
   "outputs": [
    {
     "data": {
      "text/plain": [
       "5.58626499999999"
      ]
     },
     "execution_count": 410,
     "metadata": {},
     "output_type": "execute_result"
    }
   ],
   "source": [
    "Square_min=41.774881-1.5*IQR\n",
    "Square_min"
   ]
  },
  {
   "cell_type": "code",
   "execution_count": 411,
   "metadata": {},
   "outputs": [],
   "source": [
    "Square_max=250\n"
   ]
  },
  {
   "cell_type": "code",
   "execution_count": 412,
   "metadata": {},
   "outputs": [
    {
     "data": {
      "text/html": [
       "<div>\n",
       "<style scoped>\n",
       "    .dataframe tbody tr th:only-of-type {\n",
       "        vertical-align: middle;\n",
       "    }\n",
       "\n",
       "    .dataframe tbody tr th {\n",
       "        vertical-align: top;\n",
       "    }\n",
       "\n",
       "    .dataframe thead th {\n",
       "        text-align: right;\n",
       "    }\n",
       "</style>\n",
       "<table border=\"1\" class=\"dataframe\">\n",
       "  <thead>\n",
       "    <tr style=\"text-align: right;\">\n",
       "      <th></th>\n",
       "      <th>Square</th>\n",
       "      <th>LifeSquare</th>\n",
       "      <th>Rooms</th>\n",
       "      <th>Price</th>\n",
       "    </tr>\n",
       "  </thead>\n",
       "  <tbody>\n",
       "    <tr>\n",
       "      <th>4262</th>\n",
       "      <td>604.705972</td>\n",
       "      <td>NaN</td>\n",
       "      <td>2.0</td>\n",
       "      <td>187717.242538</td>\n",
       "    </tr>\n",
       "    <tr>\n",
       "      <th>3413</th>\n",
       "      <td>5.129222</td>\n",
       "      <td>5.549458</td>\n",
       "      <td>1.0</td>\n",
       "      <td>369472.403061</td>\n",
       "    </tr>\n",
       "    <tr>\n",
       "      <th>3280</th>\n",
       "      <td>4.380726</td>\n",
       "      <td>40.805837</td>\n",
       "      <td>1.0</td>\n",
       "      <td>97560.720383</td>\n",
       "    </tr>\n",
       "    <tr>\n",
       "      <th>8030</th>\n",
       "      <td>4.823679</td>\n",
       "      <td>79.767964</td>\n",
       "      <td>3.0</td>\n",
       "      <td>237716.681261</td>\n",
       "    </tr>\n",
       "    <tr>\n",
       "      <th>4690</th>\n",
       "      <td>409.425181</td>\n",
       "      <td>410.639749</td>\n",
       "      <td>1.0</td>\n",
       "      <td>90470.430830</td>\n",
       "    </tr>\n",
       "    <tr>\n",
       "      <th>9613</th>\n",
       "      <td>4.502784</td>\n",
       "      <td>4.618547</td>\n",
       "      <td>1.0</td>\n",
       "      <td>483283.488083</td>\n",
       "    </tr>\n",
       "    <tr>\n",
       "      <th>1316</th>\n",
       "      <td>4.633498</td>\n",
       "      <td>1.969969</td>\n",
       "      <td>1.0</td>\n",
       "      <td>107604.269441</td>\n",
       "    </tr>\n",
       "    <tr>\n",
       "      <th>4853</th>\n",
       "      <td>2.377248</td>\n",
       "      <td>0.873147</td>\n",
       "      <td>0.0</td>\n",
       "      <td>126596.941798</td>\n",
       "    </tr>\n",
       "    <tr>\n",
       "      <th>9294</th>\n",
       "      <td>2.954309</td>\n",
       "      <td>5.257278</td>\n",
       "      <td>1.0</td>\n",
       "      <td>438005.182323</td>\n",
       "    </tr>\n",
       "  </tbody>\n",
       "</table>\n",
       "</div>"
      ],
      "text/plain": [
       "          Square  LifeSquare  Rooms          Price\n",
       "4262  604.705972         NaN    2.0  187717.242538\n",
       "3413    5.129222    5.549458    1.0  369472.403061\n",
       "3280    4.380726   40.805837    1.0   97560.720383\n",
       "8030    4.823679   79.767964    3.0  237716.681261\n",
       "4690  409.425181  410.639749    1.0   90470.430830\n",
       "9613    4.502784    4.618547    1.0  483283.488083\n",
       "1316    4.633498    1.969969    1.0  107604.269441\n",
       "4853    2.377248    0.873147    0.0  126596.941798\n",
       "9294    2.954309    5.257278    1.0  438005.182323"
      ]
     },
     "execution_count": 412,
     "metadata": {},
     "output_type": "execute_result"
    }
   ],
   "source": [
    "Bad_Square=train.loc[(train['Square']<Square_min) | (train['Square']>Square_max ) , ['Square','LifeSquare', 'Rooms', 'Price']]\n",
    "Bad_Square"
   ]
  },
  {
   "cell_type": "code",
   "execution_count": 413,
   "metadata": {},
   "outputs": [
    {
     "data": {
      "text/html": [
       "<div>\n",
       "<style scoped>\n",
       "    .dataframe tbody tr th:only-of-type {\n",
       "        vertical-align: middle;\n",
       "    }\n",
       "\n",
       "    .dataframe tbody tr th {\n",
       "        vertical-align: top;\n",
       "    }\n",
       "\n",
       "    .dataframe thead th {\n",
       "        text-align: right;\n",
       "    }\n",
       "</style>\n",
       "<table border=\"1\" class=\"dataframe\">\n",
       "  <thead>\n",
       "    <tr style=\"text-align: right;\">\n",
       "      <th></th>\n",
       "      <th>Square</th>\n",
       "      <th>LifeSquare</th>\n",
       "      <th>Rooms</th>\n",
       "      <th>Price</th>\n",
       "    </tr>\n",
       "  </thead>\n",
       "  <tbody>\n",
       "    <tr>\n",
       "      <th>count</th>\n",
       "      <td>5506.000000</td>\n",
       "      <td>5506.000000</td>\n",
       "      <td>5506.000000</td>\n",
       "      <td>5506.000000</td>\n",
       "    </tr>\n",
       "    <tr>\n",
       "      <th>mean</th>\n",
       "      <td>55.238177</td>\n",
       "      <td>37.478006</td>\n",
       "      <td>1.922811</td>\n",
       "      <td>224144.328183</td>\n",
       "    </tr>\n",
       "    <tr>\n",
       "      <th>std</th>\n",
       "      <td>18.723317</td>\n",
       "      <td>102.015362</td>\n",
       "      <td>0.863446</td>\n",
       "      <td>95303.623934</td>\n",
       "    </tr>\n",
       "    <tr>\n",
       "      <th>min</th>\n",
       "      <td>13.784865</td>\n",
       "      <td>0.370619</td>\n",
       "      <td>0.000000</td>\n",
       "      <td>59174.778028</td>\n",
       "    </tr>\n",
       "    <tr>\n",
       "      <th>25%</th>\n",
       "      <td>41.099155</td>\n",
       "      <td>22.801890</td>\n",
       "      <td>1.000000</td>\n",
       "      <td>162414.119464</td>\n",
       "    </tr>\n",
       "    <tr>\n",
       "      <th>50%</th>\n",
       "      <td>51.193832</td>\n",
       "      <td>32.870761</td>\n",
       "      <td>2.000000</td>\n",
       "      <td>200292.375592</td>\n",
       "    </tr>\n",
       "    <tr>\n",
       "      <th>75%</th>\n",
       "      <td>64.740245</td>\n",
       "      <td>45.121115</td>\n",
       "      <td>3.000000</td>\n",
       "      <td>262004.086014</td>\n",
       "    </tr>\n",
       "    <tr>\n",
       "      <th>max</th>\n",
       "      <td>200.334539</td>\n",
       "      <td>7480.592129</td>\n",
       "      <td>19.000000</td>\n",
       "      <td>625678.644994</td>\n",
       "    </tr>\n",
       "  </tbody>\n",
       "</table>\n",
       "</div>"
      ],
      "text/plain": [
       "            Square   LifeSquare        Rooms          Price\n",
       "count  5506.000000  5506.000000  5506.000000    5506.000000\n",
       "mean     55.238177    37.478006     1.922811  224144.328183\n",
       "std      18.723317   102.015362     0.863446   95303.623934\n",
       "min      13.784865     0.370619     0.000000   59174.778028\n",
       "25%      41.099155    22.801890     1.000000  162414.119464\n",
       "50%      51.193832    32.870761     2.000000  200292.375592\n",
       "75%      64.740245    45.121115     3.000000  262004.086014\n",
       "max     200.334539  7480.592129    19.000000  625678.644994"
      ]
     },
     "execution_count": 413,
     "metadata": {},
     "output_type": "execute_result"
    }
   ],
   "source": [
    "Good_Square=train.loc[(train['Square']>=Square_min) & (train['Square']<=Square_max ) , ['Square','LifeSquare', 'Rooms', 'Price']]\n",
    "Good_Square=Good_Square.loc[(Good_Square['LifeSquare']>=Square_min) | (Good_Square['LifeSquare']<=Square_max)]\n",
    "\n",
    "#Good_Square=train.loc[(train['Square']>=Square_min),['Square']]\n",
    "Good_Square.describe()                            \n"
   ]
  },
  {
   "cell_type": "code",
   "execution_count": 414,
   "metadata": {},
   "outputs": [],
   "source": [
    "Good_Square_and_Rooms=Good_Square=Good_Square.loc[(Good_Square['Rooms']>0) & (Good_Square['Rooms']<=5)]"
   ]
  },
  {
   "cell_type": "code",
   "execution_count": 415,
   "metadata": {},
   "outputs": [
    {
     "data": {
      "text/plain": [
       "0.6783810121584248"
      ]
     },
     "execution_count": 415,
     "metadata": {},
     "output_type": "execute_result"
    }
   ],
   "source": [
    "LifeSq_ratio=Good_Square_and_Rooms['LifeSquare'].sum()/Good_Square_and_Rooms['Square'].sum()\n",
    "LifeSq_ratio"
   ]
  },
  {
   "cell_type": "code",
   "execution_count": 416,
   "metadata": {},
   "outputs": [
    {
     "data": {
      "text/plain": [
       "28.79477821286967"
      ]
     },
     "execution_count": 416,
     "metadata": {},
     "output_type": "execute_result"
    }
   ],
   "source": [
    "Sq_room_ratio=Good_Square_and_Rooms['Square'].sum()/Good_Square_and_Rooms['Rooms'].sum()\n",
    "Sq_room_ratio"
   ]
  },
  {
   "cell_type": "markdown",
   "metadata": {},
   "source": [
    "----------------------Чистим экстремальные значения комнат, исходя из средней площади квартиры---------------------"
   ]
  },
  {
   "cell_type": "code",
   "execution_count": 417,
   "metadata": {},
   "outputs": [],
   "source": [
    "\n",
    "def clean_rooms(df, Sq_room_ratio):\n",
    "    df.loc[(df['Rooms']==0) | (df['Rooms']>5),['Rooms']]=np.ceil(df['Square']/Sq_room_ratio)\n",
    "    "
   ]
  },
  {
   "cell_type": "code",
   "execution_count": 418,
   "metadata": {},
   "outputs": [],
   "source": [
    "clean_rooms(train, Sq_room_ratio=Sq_room_ratio)\n",
    "clean_rooms(valid, Sq_room_ratio=Sq_room_ratio)"
   ]
  },
  {
   "cell_type": "code",
   "execution_count": null,
   "metadata": {},
   "outputs": [],
   "source": []
  },
  {
   "cell_type": "code",
   "execution_count": 419,
   "metadata": {},
   "outputs": [
    {
     "data": {
      "text/plain": [
       "2.0    2728\n",
       "1.0    2595\n",
       "3.0    1561\n",
       "4.0     103\n",
       "5.0      13\n",
       "Name: Rooms, dtype: int64"
      ]
     },
     "execution_count": 419,
     "metadata": {},
     "output_type": "execute_result"
    }
   ],
   "source": [
    "train['Rooms'].value_counts()"
   ]
  },
  {
   "cell_type": "code",
   "execution_count": 420,
   "metadata": {},
   "outputs": [
    {
     "data": {
      "text/plain": [
       "2.0    1156\n",
       "1.0    1111\n",
       "3.0     678\n",
       "4.0      48\n",
       "5.0       6\n",
       "8.0       1\n",
       "Name: Rooms, dtype: int64"
      ]
     },
     "execution_count": 420,
     "metadata": {},
     "output_type": "execute_result"
    }
   ],
   "source": [
    "valid['Rooms'].value_counts()"
   ]
  },
  {
   "cell_type": "markdown",
   "metadata": {},
   "source": [
    "-----------------Изменяем \"плохие\" значения общей площади-------------"
   ]
  },
  {
   "cell_type": "code",
   "execution_count": 421,
   "metadata": {},
   "outputs": [
    {
     "data": {
      "text/html": [
       "<div>\n",
       "<style scoped>\n",
       "    .dataframe tbody tr th:only-of-type {\n",
       "        vertical-align: middle;\n",
       "    }\n",
       "\n",
       "    .dataframe tbody tr th {\n",
       "        vertical-align: top;\n",
       "    }\n",
       "\n",
       "    .dataframe thead th {\n",
       "        text-align: right;\n",
       "    }\n",
       "</style>\n",
       "<table border=\"1\" class=\"dataframe\">\n",
       "  <thead>\n",
       "    <tr style=\"text-align: right;\">\n",
       "      <th></th>\n",
       "      <th>Square</th>\n",
       "      <th>LifeSquare</th>\n",
       "      <th>Rooms</th>\n",
       "      <th>Price</th>\n",
       "    </tr>\n",
       "  </thead>\n",
       "  <tbody>\n",
       "    <tr>\n",
       "      <th>4262</th>\n",
       "      <td>604.705972</td>\n",
       "      <td>NaN</td>\n",
       "      <td>2.0</td>\n",
       "      <td>187717.242538</td>\n",
       "    </tr>\n",
       "    <tr>\n",
       "      <th>3413</th>\n",
       "      <td>5.129222</td>\n",
       "      <td>5.549458</td>\n",
       "      <td>1.0</td>\n",
       "      <td>369472.403061</td>\n",
       "    </tr>\n",
       "    <tr>\n",
       "      <th>3280</th>\n",
       "      <td>4.380726</td>\n",
       "      <td>40.805837</td>\n",
       "      <td>1.0</td>\n",
       "      <td>97560.720383</td>\n",
       "    </tr>\n",
       "    <tr>\n",
       "      <th>8030</th>\n",
       "      <td>4.823679</td>\n",
       "      <td>79.767964</td>\n",
       "      <td>3.0</td>\n",
       "      <td>237716.681261</td>\n",
       "    </tr>\n",
       "    <tr>\n",
       "      <th>4690</th>\n",
       "      <td>409.425181</td>\n",
       "      <td>410.639749</td>\n",
       "      <td>1.0</td>\n",
       "      <td>90470.430830</td>\n",
       "    </tr>\n",
       "    <tr>\n",
       "      <th>9613</th>\n",
       "      <td>4.502784</td>\n",
       "      <td>4.618547</td>\n",
       "      <td>1.0</td>\n",
       "      <td>483283.488083</td>\n",
       "    </tr>\n",
       "    <tr>\n",
       "      <th>1316</th>\n",
       "      <td>4.633498</td>\n",
       "      <td>1.969969</td>\n",
       "      <td>1.0</td>\n",
       "      <td>107604.269441</td>\n",
       "    </tr>\n",
       "    <tr>\n",
       "      <th>4853</th>\n",
       "      <td>2.377248</td>\n",
       "      <td>0.873147</td>\n",
       "      <td>0.0</td>\n",
       "      <td>126596.941798</td>\n",
       "    </tr>\n",
       "    <tr>\n",
       "      <th>9294</th>\n",
       "      <td>2.954309</td>\n",
       "      <td>5.257278</td>\n",
       "      <td>1.0</td>\n",
       "      <td>438005.182323</td>\n",
       "    </tr>\n",
       "  </tbody>\n",
       "</table>\n",
       "</div>"
      ],
      "text/plain": [
       "          Square  LifeSquare  Rooms          Price\n",
       "4262  604.705972         NaN    2.0  187717.242538\n",
       "3413    5.129222    5.549458    1.0  369472.403061\n",
       "3280    4.380726   40.805837    1.0   97560.720383\n",
       "8030    4.823679   79.767964    3.0  237716.681261\n",
       "4690  409.425181  410.639749    1.0   90470.430830\n",
       "9613    4.502784    4.618547    1.0  483283.488083\n",
       "1316    4.633498    1.969969    1.0  107604.269441\n",
       "4853    2.377248    0.873147    0.0  126596.941798\n",
       "9294    2.954309    5.257278    1.0  438005.182323"
      ]
     },
     "execution_count": 421,
     "metadata": {},
     "output_type": "execute_result"
    }
   ],
   "source": [
    "Bad_Square"
   ]
  },
  {
   "cell_type": "code",
   "execution_count": 422,
   "metadata": {},
   "outputs": [],
   "source": [
    "def clean_Square(df,Square_min, Square_max, LifeSq_ratio, Sq_room_ratio):\n",
    "    # выбираем плохие Square c хорошими LifeSqure и пересчитываем, исходя из LifeSqure\n",
    "    Bad_SQ=df.loc[((df['Square']<Square_min) | (df['Square']>Square_max)) & ((df['LifeSquare']>= Square_min)& (df['LifeSquare']<= Square_max)), ['Square']]=df['LifeSquare']/LifeSq_ratio\n",
    "    # для остальных берем среднюю площадь комнаты\n",
    "    Bad_SQ=df.loc[(df['Square']<Square_min) | (df['Square']>Square_max),['Square']]=df['Rooms']*Sq_room_ratio"
   ]
  },
  {
   "cell_type": "code",
   "execution_count": 423,
   "metadata": {},
   "outputs": [],
   "source": [
    "clean_Square(train,Square_min=Square_min, Square_max=Square_max, LifeSq_ratio=LifeSq_ratio, Sq_room_ratio=Sq_room_ratio)\n",
    "clean_Square(valid,Square_min=Square_min, Square_max=Square_max, LifeSq_ratio=LifeSq_ratio, Sq_room_ratio=Sq_room_ratio)"
   ]
  },
  {
   "cell_type": "code",
   "execution_count": null,
   "metadata": {},
   "outputs": [],
   "source": []
  },
  {
   "cell_type": "code",
   "execution_count": 424,
   "metadata": {},
   "outputs": [
    {
     "data": {
      "text/plain": [
       "<matplotlib.axes._subplots.AxesSubplot at 0x21eb2a9fc18>"
      ]
     },
     "execution_count": 424,
     "metadata": {},
     "output_type": "execute_result"
    },
    {
     "data": {
      "image/png": "[encoded data removed]",
      "text/plain": [
       "<Figure size 576x360 with 1 Axes>"
      ]
     },
     "metadata": {},
     "output_type": "display_data"
    }
   ],
   "source": [
    "sns.distplot(train['Square'])"
   ]
  },
  {
   "cell_type": "code",
   "execution_count": 425,
   "metadata": {},
   "outputs": [
    {
     "data": {
      "text/plain": [
       "Text(0.5, 1.0, 'Зависимость жилой площади от общей площади до чистки')"
      ]
     },
     "execution_count": 425,
     "metadata": {},
     "output_type": "execute_result"
    },
    {
     "data": {
      "image/png": "[encoded data removed]",
      "text/plain": [
       "<Figure size 576x360 with 1 Axes>"
      ]
     },
     "metadata": {},
     "output_type": "display_data"
    }
   ],
   "source": [
    "plt.scatter(train['Square'],train['LifeSquare'])\n",
    "plt.xlabel('Square')\n",
    "plt.ylabel('LifeSquare')\n",
    "plt.title('Зависимость жилой площади от общей площади до чистки')"
   ]
  },
  {
   "cell_type": "code",
   "execution_count": 426,
   "metadata": {},
   "outputs": [
    {
     "data": {
      "text/plain": [
       "count    7887.000000\n",
       "mean       37.199645\n",
       "std        86.241209\n",
       "min         0.370619\n",
       "25%        22.769832\n",
       "50%        32.781260\n",
       "75%        45.128803\n",
       "max      7480.592129\n",
       "Name: LifeSquare, dtype: float64"
      ]
     },
     "execution_count": 426,
     "metadata": {},
     "output_type": "execute_result"
    }
   ],
   "source": [
    "data['LifeSquare'].describe()"
   ]
  },
  {
   "cell_type": "code",
   "execution_count": 427,
   "metadata": {},
   "outputs": [
    {
     "data": {
      "text/plain": [
       "22.358970999999997"
      ]
     },
     "execution_count": 427,
     "metadata": {},
     "output_type": "execute_result"
    }
   ],
   "source": [
    "IQR2=45.128803-22.769832\n",
    "IQR2"
   ]
  },
  {
   "cell_type": "markdown",
   "metadata": {},
   "source": [
    "------------------Заполняем 'плохие' значения LifeSquare----------------------"
   ]
  },
  {
   "cell_type": "code",
   "execution_count": 428,
   "metadata": {},
   "outputs": [],
   "source": [
    "def fill_LifeSquare(df, LifeSq_ratio):\n",
    "    df.loc[(df['LifeSquare'].isnull()) | (df['LifeSquare']<6) | (df['LifeSquare']>df['Square']),'LifeSquare'] =df['Square']*LifeSq_ratio"
   ]
  },
  {
   "cell_type": "code",
   "execution_count": 429,
   "metadata": {},
   "outputs": [],
   "source": [
    "fill_LifeSquare(train, LifeSq_ratio=LifeSq_ratio)\n",
    "fill_LifeSquare(valid, LifeSq_ratio=LifeSq_ratio)"
   ]
  },
  {
   "cell_type": "code",
   "execution_count": null,
   "metadata": {},
   "outputs": [],
   "source": []
  },
  {
   "cell_type": "code",
   "execution_count": 430,
   "metadata": {},
   "outputs": [
    {
     "data": {
      "text/plain": [
       "Text(0.5, 1.0, 'Зависимость жилой площади от общей площади после чистки')"
      ]
     },
     "execution_count": 430,
     "metadata": {},
     "output_type": "execute_result"
    },
    {
     "data": {
      "image/png": "[encoded data removed]",
      "text/plain": [
       "<Figure size 576x360 with 1 Axes>"
      ]
     },
     "metadata": {},
     "output_type": "display_data"
    }
   ],
   "source": [
    "plt.scatter(train['Square'],train['LifeSquare'])\n",
    "plt.xlabel('Square')\n",
    "plt.ylabel('LifeSquare')\n",
    "plt.title('Зависимость жилой площади от общей площади после чистки')"
   ]
  },
  {
   "cell_type": "code",
   "execution_count": 431,
   "metadata": {},
   "outputs": [
    {
     "data": {
      "text/html": [
       "<div>\n",
       "<style scoped>\n",
       "    .dataframe tbody tr th:only-of-type {\n",
       "        vertical-align: middle;\n",
       "    }\n",
       "\n",
       "    .dataframe tbody tr th {\n",
       "        vertical-align: top;\n",
       "    }\n",
       "\n",
       "    .dataframe thead th {\n",
       "        text-align: right;\n",
       "    }\n",
       "</style>\n",
       "<table border=\"1\" class=\"dataframe\">\n",
       "  <thead>\n",
       "    <tr style=\"text-align: right;\">\n",
       "      <th></th>\n",
       "      <th>LifeSquare</th>\n",
       "      <th>Square</th>\n",
       "      <th>Rooms</th>\n",
       "      <th>Price</th>\n",
       "    </tr>\n",
       "  </thead>\n",
       "  <tbody>\n",
       "    <tr>\n",
       "      <th>count</th>\n",
       "      <td>7000.000000</td>\n",
       "      <td>7000.000000</td>\n",
       "      <td>7000.000000</td>\n",
       "      <td>7000.000000</td>\n",
       "    </tr>\n",
       "    <tr>\n",
       "      <th>mean</th>\n",
       "      <td>36.746723</td>\n",
       "      <td>56.216794</td>\n",
       "      <td>1.887286</td>\n",
       "      <td>214449.167390</td>\n",
       "    </tr>\n",
       "    <tr>\n",
       "      <th>std</th>\n",
       "      <td>14.888046</td>\n",
       "      <td>18.926845</td>\n",
       "      <td>0.810355</td>\n",
       "      <td>92924.798790</td>\n",
       "    </tr>\n",
       "    <tr>\n",
       "      <th>min</th>\n",
       "      <td>8.822988</td>\n",
       "      <td>13.784865</td>\n",
       "      <td>1.000000</td>\n",
       "      <td>59174.778028</td>\n",
       "    </tr>\n",
       "    <tr>\n",
       "      <th>25%</th>\n",
       "      <td>25.731472</td>\n",
       "      <td>41.745094</td>\n",
       "      <td>1.000000</td>\n",
       "      <td>154599.240157</td>\n",
       "    </tr>\n",
       "    <tr>\n",
       "      <th>50%</th>\n",
       "      <td>33.532000</td>\n",
       "      <td>52.648143</td>\n",
       "      <td>2.000000</td>\n",
       "      <td>192290.039215</td>\n",
       "    </tr>\n",
       "    <tr>\n",
       "      <th>75%</th>\n",
       "      <td>45.016265</td>\n",
       "      <td>65.980391</td>\n",
       "      <td>2.000000</td>\n",
       "      <td>249080.956886</td>\n",
       "    </tr>\n",
       "    <tr>\n",
       "      <th>max</th>\n",
       "      <td>161.504222</td>\n",
       "      <td>200.334539</td>\n",
       "      <td>5.000000</td>\n",
       "      <td>627525.072788</td>\n",
       "    </tr>\n",
       "  </tbody>\n",
       "</table>\n",
       "</div>"
      ],
      "text/plain": [
       "        LifeSquare       Square        Rooms          Price\n",
       "count  7000.000000  7000.000000  7000.000000    7000.000000\n",
       "mean     36.746723    56.216794     1.887286  214449.167390\n",
       "std      14.888046    18.926845     0.810355   92924.798790\n",
       "min       8.822988    13.784865     1.000000   59174.778028\n",
       "25%      25.731472    41.745094     1.000000  154599.240157\n",
       "50%      33.532000    52.648143     2.000000  192290.039215\n",
       "75%      45.016265    65.980391     2.000000  249080.956886\n",
       "max     161.504222   200.334539     5.000000  627525.072788"
      ]
     },
     "execution_count": 431,
     "metadata": {},
     "output_type": "execute_result"
    }
   ],
   "source": [
    "train[['LifeSquare','Square','Rooms','Price']].describe()\n"
   ]
  },
  {
   "cell_type": "markdown",
   "metadata": {},
   "source": [
    "-----------------------Почистим площадь кухни-----------------"
   ]
  },
  {
   "cell_type": "code",
   "execution_count": 432,
   "metadata": {},
   "outputs": [
    {
     "data": {
      "text/plain": [
       "6.490714285714286"
      ]
     },
     "execution_count": 432,
     "metadata": {},
     "output_type": "execute_result"
    }
   ],
   "source": [
    "train['KitchenSquare'].mean()"
   ]
  },
  {
   "cell_type": "code",
   "execution_count": 433,
   "metadata": {},
   "outputs": [
    {
     "data": {
      "text/plain": [
       "count    7000.000000\n",
       "mean        6.490714\n",
       "std        33.999713\n",
       "min         0.000000\n",
       "25%         1.000000\n",
       "50%         6.000000\n",
       "75%         9.000000\n",
       "max      2014.000000\n",
       "Name: KitchenSquare, dtype: float64"
      ]
     },
     "execution_count": 433,
     "metadata": {},
     "output_type": "execute_result"
    }
   ],
   "source": [
    "train['KitchenSquare'].describe()"
   ]
  },
  {
   "cell_type": "code",
   "execution_count": 434,
   "metadata": {},
   "outputs": [],
   "source": [
    "def cleanKitchenSquare(df):\n",
    "    df.loc[(df['KitchenSquare']>20) | (df['KitchenSquare']==0),'KitchenSquare']=6"
   ]
  },
  {
   "cell_type": "code",
   "execution_count": 435,
   "metadata": {},
   "outputs": [],
   "source": [
    "cleanKitchenSquare(train)\n",
    "cleanKitchenSquare(valid)"
   ]
  },
  {
   "cell_type": "code",
   "execution_count": 436,
   "metadata": {},
   "outputs": [
    {
     "data": {
      "text/plain": [
       "count    7000.000000\n",
       "mean        6.117714\n",
       "std         3.574429\n",
       "min         1.000000\n",
       "25%         4.000000\n",
       "50%         6.000000\n",
       "75%         9.000000\n",
       "max        20.000000\n",
       "Name: KitchenSquare, dtype: float64"
      ]
     },
     "execution_count": 436,
     "metadata": {},
     "output_type": "execute_result"
    }
   ],
   "source": [
    "train['KitchenSquare'].describe()"
   ]
  },
  {
   "cell_type": "markdown",
   "metadata": {},
   "source": [
    "----------дополнительно проанализируем комнаты и их площадь---------------------"
   ]
  },
  {
   "cell_type": "code",
   "execution_count": 437,
   "metadata": {},
   "outputs": [
    {
     "data": {
      "text/html": [
       "<div>\n",
       "<style scoped>\n",
       "    .dataframe tbody tr th:only-of-type {\n",
       "        vertical-align: middle;\n",
       "    }\n",
       "\n",
       "    .dataframe tbody tr th {\n",
       "        vertical-align: top;\n",
       "    }\n",
       "\n",
       "    .dataframe thead th {\n",
       "        text-align: right;\n",
       "    }\n",
       "</style>\n",
       "<table border=\"1\" class=\"dataframe\">\n",
       "  <thead>\n",
       "    <tr style=\"text-align: right;\">\n",
       "      <th></th>\n",
       "      <th>Square</th>\n",
       "      <th>Price</th>\n",
       "    </tr>\n",
       "    <tr>\n",
       "      <th>Rooms</th>\n",
       "      <th></th>\n",
       "      <th></th>\n",
       "    </tr>\n",
       "  </thead>\n",
       "  <tbody>\n",
       "    <tr>\n",
       "      <th>1.0</th>\n",
       "      <td>41.274067</td>\n",
       "      <td>160121.886867</td>\n",
       "    </tr>\n",
       "    <tr>\n",
       "      <th>2.0</th>\n",
       "      <td>56.594066</td>\n",
       "      <td>215195.121983</td>\n",
       "    </tr>\n",
       "    <tr>\n",
       "      <th>3.0</th>\n",
       "      <td>77.180927</td>\n",
       "      <td>290795.184593</td>\n",
       "    </tr>\n",
       "    <tr>\n",
       "      <th>4.0</th>\n",
       "      <td>98.651884</td>\n",
       "      <td>385776.526291</td>\n",
       "    </tr>\n",
       "    <tr>\n",
       "      <th>5.0</th>\n",
       "      <td>106.321121</td>\n",
       "      <td>377639.783211</td>\n",
       "    </tr>\n",
       "  </tbody>\n",
       "</table>\n",
       "</div>"
      ],
      "text/plain": [
       "           Square          Price\n",
       "Rooms                           \n",
       "1.0     41.274067  160121.886867\n",
       "2.0     56.594066  215195.121983\n",
       "3.0     77.180927  290795.184593\n",
       "4.0     98.651884  385776.526291\n",
       "5.0    106.321121  377639.783211"
      ]
     },
     "execution_count": 437,
     "metadata": {},
     "output_type": "execute_result"
    }
   ],
   "source": [
    "train.groupby(['Rooms'])[['Square','Price']].mean()"
   ]
  },
  {
   "cell_type": "code",
   "execution_count": 438,
   "metadata": {},
   "outputs": [
    {
     "data": {
      "text/html": [
       "<div>\n",
       "<style scoped>\n",
       "    .dataframe tbody tr th:only-of-type {\n",
       "        vertical-align: middle;\n",
       "    }\n",
       "\n",
       "    .dataframe tbody tr th {\n",
       "        vertical-align: top;\n",
       "    }\n",
       "\n",
       "    .dataframe thead th {\n",
       "        text-align: right;\n",
       "    }\n",
       "</style>\n",
       "<table border=\"1\" class=\"dataframe\">\n",
       "  <thead>\n",
       "    <tr style=\"text-align: right;\">\n",
       "      <th></th>\n",
       "      <th>Square</th>\n",
       "    </tr>\n",
       "    <tr>\n",
       "      <th>Rooms</th>\n",
       "      <th></th>\n",
       "    </tr>\n",
       "  </thead>\n",
       "  <tbody>\n",
       "    <tr>\n",
       "      <th>1.0</th>\n",
       "      <td>174.649522</td>\n",
       "    </tr>\n",
       "    <tr>\n",
       "      <th>2.0</th>\n",
       "      <td>170.379494</td>\n",
       "    </tr>\n",
       "    <tr>\n",
       "      <th>3.0</th>\n",
       "      <td>190.857689</td>\n",
       "    </tr>\n",
       "    <tr>\n",
       "      <th>4.0</th>\n",
       "      <td>200.334539</td>\n",
       "    </tr>\n",
       "    <tr>\n",
       "      <th>5.0</th>\n",
       "      <td>183.382273</td>\n",
       "    </tr>\n",
       "  </tbody>\n",
       "</table>\n",
       "</div>"
      ],
      "text/plain": [
       "           Square\n",
       "Rooms            \n",
       "1.0    174.649522\n",
       "2.0    170.379494\n",
       "3.0    190.857689\n",
       "4.0    200.334539\n",
       "5.0    183.382273"
      ]
     },
     "execution_count": 438,
     "metadata": {},
     "output_type": "execute_result"
    }
   ],
   "source": [
    "train.groupby(['Rooms'])[['Square']].max()"
   ]
  },
  {
   "cell_type": "markdown",
   "metadata": {},
   "source": [
    "видим, что все равно остались комнаты с экстремальной площадью"
   ]
  },
  {
   "cell_type": "code",
   "execution_count": 439,
   "metadata": {},
   "outputs": [
    {
     "data": {
      "text/html": [
       "<div>\n",
       "<style scoped>\n",
       "    .dataframe tbody tr th:only-of-type {\n",
       "        vertical-align: middle;\n",
       "    }\n",
       "\n",
       "    .dataframe tbody tr th {\n",
       "        vertical-align: top;\n",
       "    }\n",
       "\n",
       "    .dataframe thead th {\n",
       "        text-align: right;\n",
       "    }\n",
       "</style>\n",
       "<table border=\"1\" class=\"dataframe\">\n",
       "  <thead>\n",
       "    <tr style=\"text-align: right;\">\n",
       "      <th></th>\n",
       "      <th>Rooms</th>\n",
       "      <th>Square</th>\n",
       "      <th>Price</th>\n",
       "    </tr>\n",
       "  </thead>\n",
       "  <tbody>\n",
       "    <tr>\n",
       "      <th>6094</th>\n",
       "      <td>1.0</td>\n",
       "      <td>103.744170</td>\n",
       "      <td>223249.331500</td>\n",
       "    </tr>\n",
       "    <tr>\n",
       "      <th>3260</th>\n",
       "      <td>1.0</td>\n",
       "      <td>160.647588</td>\n",
       "      <td>217874.997452</td>\n",
       "    </tr>\n",
       "    <tr>\n",
       "      <th>2881</th>\n",
       "      <td>1.0</td>\n",
       "      <td>148.179026</td>\n",
       "      <td>160902.854650</td>\n",
       "    </tr>\n",
       "    <tr>\n",
       "      <th>4525</th>\n",
       "      <td>1.0</td>\n",
       "      <td>105.619549</td>\n",
       "      <td>476843.942405</td>\n",
       "    </tr>\n",
       "    <tr>\n",
       "      <th>9589</th>\n",
       "      <td>1.0</td>\n",
       "      <td>106.260300</td>\n",
       "      <td>509162.416594</td>\n",
       "    </tr>\n",
       "    <tr>\n",
       "      <th>506</th>\n",
       "      <td>1.0</td>\n",
       "      <td>105.432181</td>\n",
       "      <td>218718.046451</td>\n",
       "    </tr>\n",
       "    <tr>\n",
       "      <th>1956</th>\n",
       "      <td>1.0</td>\n",
       "      <td>106.239622</td>\n",
       "      <td>274139.065875</td>\n",
       "    </tr>\n",
       "    <tr>\n",
       "      <th>5452</th>\n",
       "      <td>1.0</td>\n",
       "      <td>102.640234</td>\n",
       "      <td>342223.033781</td>\n",
       "    </tr>\n",
       "    <tr>\n",
       "      <th>7885</th>\n",
       "      <td>1.0</td>\n",
       "      <td>109.144492</td>\n",
       "      <td>289034.391871</td>\n",
       "    </tr>\n",
       "    <tr>\n",
       "      <th>8274</th>\n",
       "      <td>1.0</td>\n",
       "      <td>106.514211</td>\n",
       "      <td>242956.031432</td>\n",
       "    </tr>\n",
       "    <tr>\n",
       "      <th>2194</th>\n",
       "      <td>1.0</td>\n",
       "      <td>121.988052</td>\n",
       "      <td>273307.249093</td>\n",
       "    </tr>\n",
       "    <tr>\n",
       "      <th>342</th>\n",
       "      <td>1.0</td>\n",
       "      <td>74.609609</td>\n",
       "      <td>216181.637056</td>\n",
       "    </tr>\n",
       "    <tr>\n",
       "      <th>610</th>\n",
       "      <td>1.0</td>\n",
       "      <td>101.737698</td>\n",
       "      <td>396825.943131</td>\n",
       "    </tr>\n",
       "    <tr>\n",
       "      <th>1641</th>\n",
       "      <td>1.0</td>\n",
       "      <td>174.649522</td>\n",
       "      <td>232766.187698</td>\n",
       "    </tr>\n",
       "    <tr>\n",
       "      <th>8390</th>\n",
       "      <td>1.0</td>\n",
       "      <td>96.838013</td>\n",
       "      <td>348962.861294</td>\n",
       "    </tr>\n",
       "    <tr>\n",
       "      <th>6579</th>\n",
       "      <td>1.0</td>\n",
       "      <td>72.486741</td>\n",
       "      <td>195520.319385</td>\n",
       "    </tr>\n",
       "    <tr>\n",
       "      <th>1804</th>\n",
       "      <td>1.0</td>\n",
       "      <td>98.727990</td>\n",
       "      <td>351021.797311</td>\n",
       "    </tr>\n",
       "    <tr>\n",
       "      <th>5658</th>\n",
       "      <td>1.0</td>\n",
       "      <td>70.567808</td>\n",
       "      <td>370121.277371</td>\n",
       "    </tr>\n",
       "    <tr>\n",
       "      <th>7906</th>\n",
       "      <td>1.0</td>\n",
       "      <td>85.185408</td>\n",
       "      <td>204223.826341</td>\n",
       "    </tr>\n",
       "    <tr>\n",
       "      <th>8949</th>\n",
       "      <td>1.0</td>\n",
       "      <td>111.680625</td>\n",
       "      <td>456417.428803</td>\n",
       "    </tr>\n",
       "    <tr>\n",
       "      <th>3368</th>\n",
       "      <td>1.0</td>\n",
       "      <td>168.086347</td>\n",
       "      <td>367353.574566</td>\n",
       "    </tr>\n",
       "    <tr>\n",
       "      <th>638</th>\n",
       "      <td>1.0</td>\n",
       "      <td>72.998799</td>\n",
       "      <td>374073.836779</td>\n",
       "    </tr>\n",
       "    <tr>\n",
       "      <th>3974</th>\n",
       "      <td>1.0</td>\n",
       "      <td>126.389517</td>\n",
       "      <td>450706.552655</td>\n",
       "    </tr>\n",
       "    <tr>\n",
       "      <th>7339</th>\n",
       "      <td>1.0</td>\n",
       "      <td>78.410874</td>\n",
       "      <td>292150.626080</td>\n",
       "    </tr>\n",
       "    <tr>\n",
       "      <th>6019</th>\n",
       "      <td>1.0</td>\n",
       "      <td>103.196375</td>\n",
       "      <td>366400.936549</td>\n",
       "    </tr>\n",
       "  </tbody>\n",
       "</table>\n",
       "</div>"
      ],
      "text/plain": [
       "      Rooms      Square          Price\n",
       "6094    1.0  103.744170  223249.331500\n",
       "3260    1.0  160.647588  217874.997452\n",
       "2881    1.0  148.179026  160902.854650\n",
       "4525    1.0  105.619549  476843.942405\n",
       "9589    1.0  106.260300  509162.416594\n",
       "506     1.0  105.432181  218718.046451\n",
       "1956    1.0  106.239622  274139.065875\n",
       "5452    1.0  102.640234  342223.033781\n",
       "7885    1.0  109.144492  289034.391871\n",
       "8274    1.0  106.514211  242956.031432\n",
       "2194    1.0  121.988052  273307.249093\n",
       "342     1.0   74.609609  216181.637056\n",
       "610     1.0  101.737698  396825.943131\n",
       "1641    1.0  174.649522  232766.187698\n",
       "8390    1.0   96.838013  348962.861294\n",
       "6579    1.0   72.486741  195520.319385\n",
       "1804    1.0   98.727990  351021.797311\n",
       "5658    1.0   70.567808  370121.277371\n",
       "7906    1.0   85.185408  204223.826341\n",
       "8949    1.0  111.680625  456417.428803\n",
       "3368    1.0  168.086347  367353.574566\n",
       "638     1.0   72.998799  374073.836779\n",
       "3974    1.0  126.389517  450706.552655\n",
       "7339    1.0   78.410874  292150.626080\n",
       "6019    1.0  103.196375  366400.936549"
      ]
     },
     "execution_count": 439,
     "metadata": {},
     "output_type": "execute_result"
    }
   ],
   "source": [
    "train.loc[(train['Rooms']==1) & (train['Square']>70), ['Rooms','Square','Price']]"
   ]
  },
  {
   "cell_type": "markdown",
   "metadata": {},
   "source": [
    "Цена на однокомнатные квартиры с большой площадью достаточно высокая и соответствует площади. Вероятно, проблема в количестве комнат"
   ]
  },
  {
   "cell_type": "code",
   "execution_count": 440,
   "metadata": {},
   "outputs": [
    {
     "data": {
      "text/plain": [
       "Rooms              1.000000\n",
       "Square           108.478990\n",
       "LifeSquare        77.245333\n",
       "Price         314045.526645\n",
       "dtype: float64"
      ]
     },
     "execution_count": 440,
     "metadata": {},
     "output_type": "execute_result"
    }
   ],
   "source": [
    "train.loc[(train['Rooms']==1) & (train['Square']>70), ['Rooms','Square','LifeSquare','Price']].mean()"
   ]
  },
  {
   "cell_type": "code",
   "execution_count": 441,
   "metadata": {},
   "outputs": [
    {
     "data": {
      "text/html": [
       "<div>\n",
       "<style scoped>\n",
       "    .dataframe tbody tr th:only-of-type {\n",
       "        vertical-align: middle;\n",
       "    }\n",
       "\n",
       "    .dataframe tbody tr th {\n",
       "        vertical-align: top;\n",
       "    }\n",
       "\n",
       "    .dataframe thead th {\n",
       "        text-align: right;\n",
       "    }\n",
       "</style>\n",
       "<table border=\"1\" class=\"dataframe\">\n",
       "  <thead>\n",
       "    <tr style=\"text-align: right;\">\n",
       "      <th></th>\n",
       "      <th>Rooms</th>\n",
       "      <th>Square</th>\n",
       "      <th>LifeSquare</th>\n",
       "      <th>Price</th>\n",
       "    </tr>\n",
       "  </thead>\n",
       "  <tbody>\n",
       "    <tr>\n",
       "      <th>6945</th>\n",
       "      <td>2.0</td>\n",
       "      <td>17.414181</td>\n",
       "      <td>11.813450</td>\n",
       "      <td>180750.471749</td>\n",
       "    </tr>\n",
       "    <tr>\n",
       "      <th>4739</th>\n",
       "      <td>3.0</td>\n",
       "      <td>13.784865</td>\n",
       "      <td>9.351391</td>\n",
       "      <td>78388.806186</td>\n",
       "    </tr>\n",
       "    <tr>\n",
       "      <th>3271</th>\n",
       "      <td>5.0</td>\n",
       "      <td>42.003293</td>\n",
       "      <td>28.494237</td>\n",
       "      <td>112693.641769</td>\n",
       "    </tr>\n",
       "    <tr>\n",
       "      <th>4431</th>\n",
       "      <td>5.0</td>\n",
       "      <td>39.906082</td>\n",
       "      <td>39.394024</td>\n",
       "      <td>206148.845716</td>\n",
       "    </tr>\n",
       "  </tbody>\n",
       "</table>\n",
       "</div>"
      ],
      "text/plain": [
       "      Rooms     Square  LifeSquare          Price\n",
       "6945    2.0  17.414181   11.813450  180750.471749\n",
       "4739    3.0  13.784865    9.351391   78388.806186\n",
       "3271    5.0  42.003293   28.494237  112693.641769\n",
       "4431    5.0  39.906082   39.394024  206148.845716"
      ]
     },
     "execution_count": 441,
     "metadata": {},
     "output_type": "execute_result"
    }
   ],
   "source": [
    "train.loc[(train['Rooms']>1) & (train['Square']/train['Rooms']<10), ['Rooms','Square','LifeSquare','Price']]"
   ]
  },
  {
   "cell_type": "markdown",
   "metadata": {},
   "source": [
    "Здесь тоже явно остались проблемы с количеством комнат, т.к. цена маленькая"
   ]
  },
  {
   "cell_type": "code",
   "execution_count": 442,
   "metadata": {},
   "outputs": [],
   "source": [
    "def add_clean_rooms(df):\n",
    "    df.loc[(df['Square']/df['Rooms']<70) & (df['Square']/df['Rooms']<15), ['Rooms']]=np.ceil(df['Square']/Sq_room_ratio)"
   ]
  },
  {
   "cell_type": "code",
   "execution_count": 443,
   "metadata": {},
   "outputs": [],
   "source": [
    "add_clean_rooms(train)\n",
    "add_clean_rooms(valid)"
   ]
  },
  {
   "cell_type": "markdown",
   "metadata": {},
   "source": [
    "--------------------- чистим HouseYear -------------------------------------------------"
   ]
  },
  {
   "cell_type": "code",
   "execution_count": 444,
   "metadata": {},
   "outputs": [
    {
     "name": "stdout",
     "output_type": "stream",
     "text": [
      "1912          1\n",
      "1914          1\n",
      "1916          1\n",
      "1917          2\n",
      "1918          4\n",
      "1919          3\n",
      "1929          1\n",
      "1931          3\n",
      "1932          2\n",
      "1933          4\n",
      "1934          2\n",
      "1935          4\n",
      "1936          3\n",
      "1937          3\n",
      "1938          4\n",
      "1939          5\n",
      "1940          2\n",
      "1941          2\n",
      "1942          2\n",
      "1947          1\n",
      "1948          2\n",
      "1950          5\n",
      "1951          2\n",
      "1952          9\n",
      "1953          5\n",
      "1954          7\n",
      "1955         13\n",
      "1956         12\n",
      "1957         24\n",
      "1958         27\n",
      "           ... \n",
      "1993         36\n",
      "1994         43\n",
      "1995         51\n",
      "1996         63\n",
      "1997         41\n",
      "1998         51\n",
      "1999         53\n",
      "2000         54\n",
      "2001         43\n",
      "2002         53\n",
      "2003         64\n",
      "2004         68\n",
      "2005         70\n",
      "2006         55\n",
      "2007         54\n",
      "2008         66\n",
      "2009         67\n",
      "2010         63\n",
      "2011         61\n",
      "2012         57\n",
      "2013         69\n",
      "2014        146\n",
      "2015        208\n",
      "2016        207\n",
      "2017        217\n",
      "2018        120\n",
      "2019         55\n",
      "2020         15\n",
      "4968          1\n",
      "20052011      1\n",
      "Name: HouseYear, Length: 94, dtype: int64\n"
     ]
    }
   ],
   "source": [
    "print(train['HouseYear'].value_counts().sort_index())"
   ]
  },
  {
   "cell_type": "code",
   "execution_count": 445,
   "metadata": {},
   "outputs": [
    {
     "data": {
      "text/plain": [
       "1984"
      ]
     },
     "execution_count": 445,
     "metadata": {},
     "output_type": "execute_result"
    }
   ],
   "source": [
    "mean_year=int(train.loc[(train['HouseYear']>=1900) & (train['HouseYear']<=2020),'HouseYear'].mean())\n",
    "mean_year"
   ]
  },
  {
   "cell_type": "code",
   "execution_count": 446,
   "metadata": {},
   "outputs": [],
   "source": [
    "def clean_HouseYear(df, mean_year):\n",
    "        df.loc[(df['HouseYear']<1900) | (df['HouseYear']>2020),'HouseYear']=mean_year\n"
   ]
  },
  {
   "cell_type": "code",
   "execution_count": 447,
   "metadata": {},
   "outputs": [],
   "source": [
    "clean_HouseYear(train, mean_year)\n"
   ]
  },
  {
   "cell_type": "code",
   "execution_count": 448,
   "metadata": {},
   "outputs": [],
   "source": [
    "clean_HouseYear(valid, mean_year)"
   ]
  },
  {
   "cell_type": "code",
   "execution_count": null,
   "metadata": {},
   "outputs": [],
   "source": []
  },
  {
   "cell_type": "markdown",
   "metadata": {},
   "source": [
    "------------------------- чистим этажи -------------------------------"
   ]
  },
  {
   "cell_type": "code",
   "execution_count": 449,
   "metadata": {},
   "outputs": [
    {
     "data": {
      "text/plain": [
       "1     158\n",
       "2     398\n",
       "3     589\n",
       "4     679\n",
       "5     614\n",
       "6     592\n",
       "7     544\n",
       "8     445\n",
       "9     445\n",
       "10    382\n",
       "11    320\n",
       "12    300\n",
       "13    262\n",
       "14    253\n",
       "15    209\n",
       "16    191\n",
       "17    172\n",
       "18    133\n",
       "19     87\n",
       "20     47\n",
       "21     41\n",
       "22     37\n",
       "23     15\n",
       "24     39\n",
       "25     26\n",
       "26     11\n",
       "27      3\n",
       "28      3\n",
       "31      1\n",
       "32      2\n",
       "33      1\n",
       "42      1\n",
       "Name: Floor, dtype: int64"
      ]
     },
     "execution_count": 449,
     "metadata": {},
     "output_type": "execute_result"
    }
   ],
   "source": [
    "train['Floor'].value_counts().sort_index()"
   ]
  },
  {
   "cell_type": "code",
   "execution_count": 450,
   "metadata": {},
   "outputs": [
    {
     "data": {
      "text/plain": [
       "0.0       183\n",
       "1.0       357\n",
       "2.0        34\n",
       "3.0        87\n",
       "4.0        89\n",
       "5.0       707\n",
       "6.0        41\n",
       "7.0        32\n",
       "8.0       104\n",
       "9.0       975\n",
       "10.0       97\n",
       "11.0       21\n",
       "12.0      749\n",
       "13.0       14\n",
       "14.0      446\n",
       "15.0       95\n",
       "16.0      394\n",
       "17.0     1633\n",
       "18.0       57\n",
       "19.0       87\n",
       "20.0       78\n",
       "21.0       23\n",
       "22.0      241\n",
       "23.0       25\n",
       "24.0      122\n",
       "25.0      265\n",
       "27.0        5\n",
       "28.0        1\n",
       "29.0        1\n",
       "30.0       17\n",
       "31.0        1\n",
       "32.0        3\n",
       "36.0        1\n",
       "37.0        2\n",
       "39.0        2\n",
       "40.0        5\n",
       "44.0        1\n",
       "47.0        1\n",
       "48.0        1\n",
       "99.0        2\n",
       "117.0       1\n",
       "Name: HouseFloor, dtype: int64"
      ]
     },
     "execution_count": 450,
     "metadata": {},
     "output_type": "execute_result"
    }
   ],
   "source": [
    "train['HouseFloor'].value_counts().sort_index()"
   ]
  },
  {
   "cell_type": "code",
   "execution_count": 451,
   "metadata": {},
   "outputs": [
    {
     "data": {
      "text/plain": [
       "8"
      ]
     },
     "execution_count": 451,
     "metadata": {},
     "output_type": "execute_result"
    }
   ],
   "source": [
    "mean_floor=int(train['Floor'].mean())\n",
    "mean_floor"
   ]
  },
  {
   "cell_type": "code",
   "execution_count": 452,
   "metadata": {},
   "outputs": [
    {
     "data": {
      "text/plain": [
       "12"
      ]
     },
     "execution_count": 452,
     "metadata": {},
     "output_type": "execute_result"
    }
   ],
   "source": [
    "mean_house_floor=int(train['HouseFloor'].mean())\n",
    "mean_house_floor"
   ]
  },
  {
   "cell_type": "code",
   "execution_count": 453,
   "metadata": {},
   "outputs": [],
   "source": [
    "def clean_HouseFloor(df):  \n",
    "        df.loc[(df['HouseFloor']<1) | (df['HouseFloor']>117),'HouseFloor']=df['Floor']\n",
    "    \n"
   ]
  },
  {
   "cell_type": "code",
   "execution_count": 454,
   "metadata": {},
   "outputs": [],
   "source": [
    "def clean_Floor(df, mean_floor):\n",
    "        df.loc[((df['Floor']<1) | (df['Floor']>42) | (df['Floor']>df['HouseFloor']))&(df['HouseFloor']>mean_floor),'Floor']=mean_floor\n",
    "        df.loc[((df['Floor']<1) | (df['Floor']>42) | (df['Floor']>df['HouseFloor']))&(df['HouseFloor']<=mean_floor),'Floor']=df['HouseFloor']\n",
    "        \n"
   ]
  },
  {
   "cell_type": "code",
   "execution_count": 455,
   "metadata": {},
   "outputs": [],
   "source": [
    "clean_HouseFloor(train)\n",
    "clean_HouseFloor(valid)"
   ]
  },
  {
   "cell_type": "code",
   "execution_count": 456,
   "metadata": {},
   "outputs": [],
   "source": [
    "clean_Floor(train, mean_floor)\n",
    "clean_Floor(valid, mean_floor)"
   ]
  },
  {
   "cell_type": "code",
   "execution_count": 457,
   "metadata": {},
   "outputs": [
    {
     "data": {
      "text/html": [
       "<div>\n",
       "<style scoped>\n",
       "    .dataframe tbody tr th:only-of-type {\n",
       "        vertical-align: middle;\n",
       "    }\n",
       "\n",
       "    .dataframe tbody tr th {\n",
       "        vertical-align: top;\n",
       "    }\n",
       "\n",
       "    .dataframe thead th {\n",
       "        text-align: right;\n",
       "    }\n",
       "</style>\n",
       "<table border=\"1\" class=\"dataframe\">\n",
       "  <thead>\n",
       "    <tr style=\"text-align: right;\">\n",
       "      <th></th>\n",
       "      <th>HouseFloor</th>\n",
       "      <th>Floor</th>\n",
       "    </tr>\n",
       "  </thead>\n",
       "  <tbody>\n",
       "    <tr>\n",
       "      <th>count</th>\n",
       "      <td>7000.000000</td>\n",
       "      <td>7000.000000</td>\n",
       "    </tr>\n",
       "    <tr>\n",
       "      <th>mean</th>\n",
       "      <td>12.894714</td>\n",
       "      <td>7.590571</td>\n",
       "    </tr>\n",
       "    <tr>\n",
       "      <th>std</th>\n",
       "      <td>6.615212</td>\n",
       "      <td>4.912094</td>\n",
       "    </tr>\n",
       "    <tr>\n",
       "      <th>min</th>\n",
       "      <td>1.000000</td>\n",
       "      <td>1.000000</td>\n",
       "    </tr>\n",
       "    <tr>\n",
       "      <th>25%</th>\n",
       "      <td>9.000000</td>\n",
       "      <td>4.000000</td>\n",
       "    </tr>\n",
       "    <tr>\n",
       "      <th>50%</th>\n",
       "      <td>14.000000</td>\n",
       "      <td>7.000000</td>\n",
       "    </tr>\n",
       "    <tr>\n",
       "      <th>75%</th>\n",
       "      <td>17.000000</td>\n",
       "      <td>10.000000</td>\n",
       "    </tr>\n",
       "    <tr>\n",
       "      <th>max</th>\n",
       "      <td>117.000000</td>\n",
       "      <td>42.000000</td>\n",
       "    </tr>\n",
       "  </tbody>\n",
       "</table>\n",
       "</div>"
      ],
      "text/plain": [
       "        HouseFloor        Floor\n",
       "count  7000.000000  7000.000000\n",
       "mean     12.894714     7.590571\n",
       "std       6.615212     4.912094\n",
       "min       1.000000     1.000000\n",
       "25%       9.000000     4.000000\n",
       "50%      14.000000     7.000000\n",
       "75%      17.000000    10.000000\n",
       "max     117.000000    42.000000"
      ]
     },
     "execution_count": 457,
     "metadata": {},
     "output_type": "execute_result"
    }
   ],
   "source": [
    "train.loc[:,['HouseFloor','Floor']].describe()"
   ]
  },
  {
   "cell_type": "markdown",
   "metadata": {},
   "source": [
    "---------------Посмотрим категорийные признаки--------------------------"
   ]
  },
  {
   "cell_type": "code",
   "execution_count": 458,
   "metadata": {},
   "outputs": [
    {
     "data": {
      "text/plain": [
       "Index(['Id', 'DistrictId', 'Rooms', 'Square', 'LifeSquare', 'KitchenSquare',\n",
       "       'Floor', 'HouseFloor', 'HouseYear', 'Ecology_1', 'Ecology_2',\n",
       "       'Ecology_3', 'Social_1', 'Social_2', 'Social_3', 'Healthcare_1',\n",
       "       'Helthcare_2', 'Shops_1', 'Shops_2', 'Price'],\n",
       "      dtype='object')"
      ]
     },
     "execution_count": 458,
     "metadata": {},
     "output_type": "execute_result"
    }
   ],
   "source": [
    "train.columns"
   ]
  },
  {
   "cell_type": "code",
   "execution_count": 459,
   "metadata": {},
   "outputs": [
    {
     "data": {
      "text/html": [
       "<div>\n",
       "<style scoped>\n",
       "    .dataframe tbody tr th:only-of-type {\n",
       "        vertical-align: middle;\n",
       "    }\n",
       "\n",
       "    .dataframe tbody tr th {\n",
       "        vertical-align: top;\n",
       "    }\n",
       "\n",
       "    .dataframe thead th {\n",
       "        text-align: right;\n",
       "    }\n",
       "</style>\n",
       "<table border=\"1\" class=\"dataframe\">\n",
       "  <thead>\n",
       "    <tr style=\"text-align: right;\">\n",
       "      <th></th>\n",
       "      <th>Id</th>\n",
       "      <th>DistrictId</th>\n",
       "      <th>Rooms</th>\n",
       "      <th>Square</th>\n",
       "      <th>LifeSquare</th>\n",
       "      <th>KitchenSquare</th>\n",
       "      <th>Floor</th>\n",
       "      <th>HouseFloor</th>\n",
       "      <th>HouseYear</th>\n",
       "      <th>Ecology_1</th>\n",
       "      <th>Ecology_2</th>\n",
       "      <th>Ecology_3</th>\n",
       "      <th>Social_1</th>\n",
       "      <th>Social_2</th>\n",
       "      <th>Social_3</th>\n",
       "      <th>Healthcare_1</th>\n",
       "      <th>Helthcare_2</th>\n",
       "      <th>Shops_1</th>\n",
       "      <th>Shops_2</th>\n",
       "      <th>Price</th>\n",
       "    </tr>\n",
       "  </thead>\n",
       "  <tbody>\n",
       "    <tr>\n",
       "      <th>9069</th>\n",
       "      <td>14604</td>\n",
       "      <td>23</td>\n",
       "      <td>1.0</td>\n",
       "      <td>41.681380</td>\n",
       "      <td>22.796166</td>\n",
       "      <td>8.0</td>\n",
       "      <td>14.0</td>\n",
       "      <td>17.0</td>\n",
       "      <td>2015</td>\n",
       "      <td>0.075779</td>\n",
       "      <td>B</td>\n",
       "      <td>B</td>\n",
       "      <td>6</td>\n",
       "      <td>1437</td>\n",
       "      <td>3</td>\n",
       "      <td>NaN</td>\n",
       "      <td>0</td>\n",
       "      <td>2</td>\n",
       "      <td>B</td>\n",
       "      <td>88504.384965</td>\n",
       "    </tr>\n",
       "    <tr>\n",
       "      <th>2603</th>\n",
       "      <td>5621</td>\n",
       "      <td>23</td>\n",
       "      <td>3.0</td>\n",
       "      <td>163.495333</td>\n",
       "      <td>161.504222</td>\n",
       "      <td>12.0</td>\n",
       "      <td>3.0</td>\n",
       "      <td>3.0</td>\n",
       "      <td>1977</td>\n",
       "      <td>0.014073</td>\n",
       "      <td>B</td>\n",
       "      <td>B</td>\n",
       "      <td>2</td>\n",
       "      <td>475</td>\n",
       "      <td>0</td>\n",
       "      <td>NaN</td>\n",
       "      <td>0</td>\n",
       "      <td>0</td>\n",
       "      <td>B</td>\n",
       "      <td>207007.956663</td>\n",
       "    </tr>\n",
       "    <tr>\n",
       "      <th>7738</th>\n",
       "      <td>235</td>\n",
       "      <td>87</td>\n",
       "      <td>1.0</td>\n",
       "      <td>39.710131</td>\n",
       "      <td>19.538663</td>\n",
       "      <td>8.0</td>\n",
       "      <td>4.0</td>\n",
       "      <td>17.0</td>\n",
       "      <td>1986</td>\n",
       "      <td>0.100456</td>\n",
       "      <td>B</td>\n",
       "      <td>B</td>\n",
       "      <td>43</td>\n",
       "      <td>7227</td>\n",
       "      <td>0</td>\n",
       "      <td>NaN</td>\n",
       "      <td>1</td>\n",
       "      <td>6</td>\n",
       "      <td>A</td>\n",
       "      <td>182126.280899</td>\n",
       "    </tr>\n",
       "    <tr>\n",
       "      <th>1579</th>\n",
       "      <td>16258</td>\n",
       "      <td>48</td>\n",
       "      <td>3.0</td>\n",
       "      <td>96.056784</td>\n",
       "      <td>65.163098</td>\n",
       "      <td>1.0</td>\n",
       "      <td>1.0</td>\n",
       "      <td>1.0</td>\n",
       "      <td>2017</td>\n",
       "      <td>0.041125</td>\n",
       "      <td>B</td>\n",
       "      <td>B</td>\n",
       "      <td>46</td>\n",
       "      <td>9515</td>\n",
       "      <td>5</td>\n",
       "      <td>NaN</td>\n",
       "      <td>1</td>\n",
       "      <td>10</td>\n",
       "      <td>B</td>\n",
       "      <td>524365.550705</td>\n",
       "    </tr>\n",
       "    <tr>\n",
       "      <th>5058</th>\n",
       "      <td>10773</td>\n",
       "      <td>77</td>\n",
       "      <td>3.0</td>\n",
       "      <td>79.195825</td>\n",
       "      <td>44.421062</td>\n",
       "      <td>10.0</td>\n",
       "      <td>16.0</td>\n",
       "      <td>17.0</td>\n",
       "      <td>1984</td>\n",
       "      <td>0.298205</td>\n",
       "      <td>B</td>\n",
       "      <td>B</td>\n",
       "      <td>16</td>\n",
       "      <td>4048</td>\n",
       "      <td>3</td>\n",
       "      <td>NaN</td>\n",
       "      <td>1</td>\n",
       "      <td>3</td>\n",
       "      <td>B</td>\n",
       "      <td>322048.433990</td>\n",
       "    </tr>\n",
       "  </tbody>\n",
       "</table>\n",
       "</div>"
      ],
      "text/plain": [
       "         Id  DistrictId  Rooms      Square  LifeSquare  KitchenSquare  Floor  \\\n",
       "9069  14604          23    1.0   41.681380   22.796166            8.0   14.0   \n",
       "2603   5621          23    3.0  163.495333  161.504222           12.0    3.0   \n",
       "7738    235          87    1.0   39.710131   19.538663            8.0    4.0   \n",
       "1579  16258          48    3.0   96.056784   65.163098            1.0    1.0   \n",
       "5058  10773          77    3.0   79.195825   44.421062           10.0   16.0   \n",
       "\n",
       "      HouseFloor  HouseYear  Ecology_1 Ecology_2 Ecology_3  Social_1  \\\n",
       "9069        17.0       2015   0.075779         B         B         6   \n",
       "2603         3.0       1977   0.014073         B         B         2   \n",
       "7738        17.0       1986   0.100456         B         B        43   \n",
       "1579         1.0       2017   0.041125         B         B        46   \n",
       "5058        17.0       1984   0.298205         B         B        16   \n",
       "\n",
       "      Social_2  Social_3  Healthcare_1  Helthcare_2  Shops_1 Shops_2  \\\n",
       "9069      1437         3           NaN            0        2       B   \n",
       "2603       475         0           NaN            0        0       B   \n",
       "7738      7227         0           NaN            1        6       A   \n",
       "1579      9515         5           NaN            1       10       B   \n",
       "5058      4048         3           NaN            1        3       B   \n",
       "\n",
       "              Price  \n",
       "9069   88504.384965  \n",
       "2603  207007.956663  \n",
       "7738  182126.280899  \n",
       "1579  524365.550705  \n",
       "5058  322048.433990  "
      ]
     },
     "execution_count": 459,
     "metadata": {},
     "output_type": "execute_result"
    }
   ],
   "source": [
    "train.head()"
   ]
  },
  {
   "cell_type": "code",
   "execution_count": 460,
   "metadata": {},
   "outputs": [
    {
     "data": {
      "text/plain": [
       "B    6936\n",
       "A      64\n",
       "Name: Ecology_2, dtype: int64"
      ]
     },
     "execution_count": 460,
     "metadata": {},
     "output_type": "execute_result"
    }
   ],
   "source": [
    "train['Ecology_2'].value_counts()"
   ]
  },
  {
   "cell_type": "code",
   "execution_count": 461,
   "metadata": {},
   "outputs": [
    {
     "data": {
      "text/plain": [
       "B    6798\n",
       "A     202\n",
       "Name: Ecology_3, dtype: int64"
      ]
     },
     "execution_count": 461,
     "metadata": {},
     "output_type": "execute_result"
    }
   ],
   "source": [
    "train['Ecology_3'].value_counts()"
   ]
  },
  {
   "cell_type": "code",
   "execution_count": 462,
   "metadata": {},
   "outputs": [
    {
     "data": {
      "text/plain": [
       "0    2946\n",
       "1    1549\n",
       "3    1147\n",
       "2     817\n",
       "5     262\n",
       "4     208\n",
       "6      71\n",
       "Name: Helthcare_2, dtype: int64"
      ]
     },
     "execution_count": 462,
     "metadata": {},
     "output_type": "execute_result"
    }
   ],
   "source": [
    "train['Helthcare_2'].value_counts()"
   ]
  },
  {
   "cell_type": "code",
   "execution_count": 463,
   "metadata": {},
   "outputs": [
    {
     "data": {
      "text/plain": [
       "B    6416\n",
       "A     584\n",
       "Name: Shops_2, dtype: int64"
      ]
     },
     "execution_count": 463,
     "metadata": {},
     "output_type": "execute_result"
    }
   ],
   "source": [
    "train['Shops_2'].value_counts()"
   ]
  },
  {
   "cell_type": "code",
   "execution_count": 464,
   "metadata": {},
   "outputs": [],
   "source": [
    "def clean_Ecology(df):\n",
    "\n",
    "    df.loc[df['Ecology_3']=='A', 'Ecology_3']=0\n",
    "    df.loc[df['Ecology_3']=='B', 'Ecology_3']=1\n",
    "    df.loc[df['Ecology_2']=='A', 'Ecology_2']=0\n",
    "    df.loc[df['Ecology_2']=='B', 'Ecology_2']=1"
   ]
  },
  {
   "cell_type": "code",
   "execution_count": 465,
   "metadata": {},
   "outputs": [],
   "source": [
    "clean_Ecology(train)\n",
    "clean_Ecology(valid)"
   ]
  },
  {
   "cell_type": "code",
   "execution_count": 466,
   "metadata": {},
   "outputs": [],
   "source": [
    "def clean_shops(df):\n",
    "\n",
    "    df.loc[df['Shops_2']=='A', 'Shops_2']=0\n",
    "    df.loc[df['Shops_2']=='B', 'Shops_2']=1\n"
   ]
  },
  {
   "cell_type": "code",
   "execution_count": 467,
   "metadata": {},
   "outputs": [],
   "source": [
    "clean_shops(train)\n",
    "clean_shops(valid)"
   ]
  },
  {
   "cell_type": "code",
   "execution_count": 468,
   "metadata": {},
   "outputs": [
    {
     "data": {
      "text/plain": [
       "1    6798\n",
       "0     202\n",
       "Name: Ecology_3, dtype: int64"
      ]
     },
     "execution_count": 468,
     "metadata": {},
     "output_type": "execute_result"
    }
   ],
   "source": [
    "train['Ecology_3'].value_counts()"
   ]
  },
  {
   "cell_type": "code",
   "execution_count": 469,
   "metadata": {},
   "outputs": [
    {
     "data": {
      "text/plain": [
       "1    2927\n",
       "0      73\n",
       "Name: Ecology_3, dtype: int64"
      ]
     },
     "execution_count": 469,
     "metadata": {},
     "output_type": "execute_result"
    }
   ],
   "source": [
    "valid['Ecology_3'].value_counts()"
   ]
  },
  {
   "cell_type": "markdown",
   "metadata": {},
   "source": [
    "-----------------------District--------------------------------------------"
   ]
  },
  {
   "cell_type": "code",
   "execution_count": 470,
   "metadata": {},
   "outputs": [
    {
     "data": {
      "text/html": [
       "<div>\n",
       "<style scoped>\n",
       "    .dataframe tbody tr th:only-of-type {\n",
       "        vertical-align: middle;\n",
       "    }\n",
       "\n",
       "    .dataframe tbody tr th {\n",
       "        vertical-align: top;\n",
       "    }\n",
       "\n",
       "    .dataframe thead th {\n",
       "        text-align: right;\n",
       "    }\n",
       "</style>\n",
       "<table border=\"1\" class=\"dataframe\">\n",
       "  <thead>\n",
       "    <tr style=\"text-align: right;\">\n",
       "      <th></th>\n",
       "      <th>DistrictId</th>\n",
       "      <th>Price</th>\n",
       "      <th>Square</th>\n",
       "    </tr>\n",
       "  </thead>\n",
       "  <tbody>\n",
       "    <tr>\n",
       "      <th>0</th>\n",
       "      <td>0</td>\n",
       "      <td>6.662621e+06</td>\n",
       "      <td>1923.061721</td>\n",
       "    </tr>\n",
       "    <tr>\n",
       "      <th>1</th>\n",
       "      <td>1</td>\n",
       "      <td>8.713873e+07</td>\n",
       "      <td>27618.436080</td>\n",
       "    </tr>\n",
       "    <tr>\n",
       "      <th>2</th>\n",
       "      <td>2</td>\n",
       "      <td>1.440963e+07</td>\n",
       "      <td>3158.988422</td>\n",
       "    </tr>\n",
       "    <tr>\n",
       "      <th>3</th>\n",
       "      <td>3</td>\n",
       "      <td>9.454802e+06</td>\n",
       "      <td>2726.163466</td>\n",
       "    </tr>\n",
       "    <tr>\n",
       "      <th>4</th>\n",
       "      <td>4</td>\n",
       "      <td>2.232088e+06</td>\n",
       "      <td>555.617392</td>\n",
       "    </tr>\n",
       "  </tbody>\n",
       "</table>\n",
       "</div>"
      ],
      "text/plain": [
       "   DistrictId         Price        Square\n",
       "0           0  6.662621e+06   1923.061721\n",
       "1           1  8.713873e+07  27618.436080\n",
       "2           2  1.440963e+07   3158.988422\n",
       "3           3  9.454802e+06   2726.163466\n",
       "4           4  2.232088e+06    555.617392"
      ]
     },
     "execution_count": 470,
     "metadata": {},
     "output_type": "execute_result"
    }
   ],
   "source": [
    "MeanPriceByDisctrict=train.groupby('DistrictId', as_index=False)[['Price','Square']].sum()\n",
    "MeanPriceByDisctrict.head()"
   ]
  },
  {
   "cell_type": "code",
   "execution_count": 471,
   "metadata": {},
   "outputs": [],
   "source": [
    "MeanPriceByDisctrict['PricePerM2']=MeanPriceByDisctrict['Price']/MeanPriceByDisctrict['Square']\n",
    "MeanPriceByDisctrict=MeanPriceByDisctrict.drop(['Price','Square'],axis=1)\n"
   ]
  },
  {
   "cell_type": "code",
   "execution_count": 472,
   "metadata": {},
   "outputs": [
    {
     "data": {
      "text/html": [
       "<div>\n",
       "<style scoped>\n",
       "    .dataframe tbody tr th:only-of-type {\n",
       "        vertical-align: middle;\n",
       "    }\n",
       "\n",
       "    .dataframe tbody tr th {\n",
       "        vertical-align: top;\n",
       "    }\n",
       "\n",
       "    .dataframe thead th {\n",
       "        text-align: right;\n",
       "    }\n",
       "</style>\n",
       "<table border=\"1\" class=\"dataframe\">\n",
       "  <thead>\n",
       "    <tr style=\"text-align: right;\">\n",
       "      <th></th>\n",
       "      <th>DistrictId</th>\n",
       "      <th>PricePerM2</th>\n",
       "    </tr>\n",
       "  </thead>\n",
       "  <tbody>\n",
       "    <tr>\n",
       "      <th>0</th>\n",
       "      <td>0</td>\n",
       "      <td>3464.590320</td>\n",
       "    </tr>\n",
       "    <tr>\n",
       "      <th>1</th>\n",
       "      <td>1</td>\n",
       "      <td>3155.092754</td>\n",
       "    </tr>\n",
       "    <tr>\n",
       "      <th>2</th>\n",
       "      <td>2</td>\n",
       "      <td>4561.471139</td>\n",
       "    </tr>\n",
       "    <tr>\n",
       "      <th>3</th>\n",
       "      <td>3</td>\n",
       "      <td>3468.171269</td>\n",
       "    </tr>\n",
       "    <tr>\n",
       "      <th>4</th>\n",
       "      <td>4</td>\n",
       "      <td>4017.311054</td>\n",
       "    </tr>\n",
       "  </tbody>\n",
       "</table>\n",
       "</div>"
      ],
      "text/plain": [
       "   DistrictId   PricePerM2\n",
       "0           0  3464.590320\n",
       "1           1  3155.092754\n",
       "2           2  4561.471139\n",
       "3           3  3468.171269\n",
       "4           4  4017.311054"
      ]
     },
     "execution_count": 472,
     "metadata": {},
     "output_type": "execute_result"
    }
   ],
   "source": [
    "MeanPriceByDisctrict.head()"
   ]
  },
  {
   "cell_type": "code",
   "execution_count": 473,
   "metadata": {},
   "outputs": [
    {
     "data": {
      "text/plain": [
       "3900.164720430913"
      ]
     },
     "execution_count": 473,
     "metadata": {},
     "output_type": "execute_result"
    }
   ],
   "source": [
    "PricePerM2_All=(train['Price']/train['Square']).mean()\n",
    "PricePerM2_All\n"
   ]
  },
  {
   "cell_type": "code",
   "execution_count": 474,
   "metadata": {},
   "outputs": [],
   "source": [
    "train_test=pd.merge(train, MeanPriceByDisctrict, on='DistrictId', how='left')"
   ]
  },
  {
   "cell_type": "code",
   "execution_count": 475,
   "metadata": {},
   "outputs": [
    {
     "data": {
      "text/html": [
       "<div>\n",
       "<style scoped>\n",
       "    .dataframe tbody tr th:only-of-type {\n",
       "        vertical-align: middle;\n",
       "    }\n",
       "\n",
       "    .dataframe tbody tr th {\n",
       "        vertical-align: top;\n",
       "    }\n",
       "\n",
       "    .dataframe thead th {\n",
       "        text-align: right;\n",
       "    }\n",
       "</style>\n",
       "<table border=\"1\" class=\"dataframe\">\n",
       "  <thead>\n",
       "    <tr style=\"text-align: right;\">\n",
       "      <th></th>\n",
       "      <th>Id</th>\n",
       "      <th>DistrictId</th>\n",
       "      <th>Rooms</th>\n",
       "      <th>Square</th>\n",
       "      <th>LifeSquare</th>\n",
       "      <th>KitchenSquare</th>\n",
       "      <th>Floor</th>\n",
       "      <th>HouseFloor</th>\n",
       "      <th>HouseYear</th>\n",
       "      <th>Ecology_1</th>\n",
       "      <th>Ecology_2</th>\n",
       "      <th>Ecology_3</th>\n",
       "      <th>Social_1</th>\n",
       "      <th>Social_2</th>\n",
       "      <th>Social_3</th>\n",
       "      <th>Healthcare_1</th>\n",
       "      <th>Helthcare_2</th>\n",
       "      <th>Shops_1</th>\n",
       "      <th>Shops_2</th>\n",
       "      <th>Price</th>\n",
       "      <th>PricePerM2</th>\n",
       "    </tr>\n",
       "  </thead>\n",
       "  <tbody>\n",
       "    <tr>\n",
       "      <th>0</th>\n",
       "      <td>14604</td>\n",
       "      <td>23</td>\n",
       "      <td>1.0</td>\n",
       "      <td>41.681380</td>\n",
       "      <td>22.796166</td>\n",
       "      <td>8.0</td>\n",
       "      <td>14.0</td>\n",
       "      <td>17.0</td>\n",
       "      <td>2015</td>\n",
       "      <td>0.075779</td>\n",
       "      <td>1</td>\n",
       "      <td>1</td>\n",
       "      <td>6</td>\n",
       "      <td>1437</td>\n",
       "      <td>3</td>\n",
       "      <td>NaN</td>\n",
       "      <td>0</td>\n",
       "      <td>2</td>\n",
       "      <td>1</td>\n",
       "      <td>88504.384965</td>\n",
       "      <td>2225.145880</td>\n",
       "    </tr>\n",
       "    <tr>\n",
       "      <th>1</th>\n",
       "      <td>5621</td>\n",
       "      <td>23</td>\n",
       "      <td>3.0</td>\n",
       "      <td>163.495333</td>\n",
       "      <td>161.504222</td>\n",
       "      <td>12.0</td>\n",
       "      <td>3.0</td>\n",
       "      <td>3.0</td>\n",
       "      <td>1977</td>\n",
       "      <td>0.014073</td>\n",
       "      <td>1</td>\n",
       "      <td>1</td>\n",
       "      <td>2</td>\n",
       "      <td>475</td>\n",
       "      <td>0</td>\n",
       "      <td>NaN</td>\n",
       "      <td>0</td>\n",
       "      <td>0</td>\n",
       "      <td>1</td>\n",
       "      <td>207007.956663</td>\n",
       "      <td>2225.145880</td>\n",
       "    </tr>\n",
       "    <tr>\n",
       "      <th>2</th>\n",
       "      <td>235</td>\n",
       "      <td>87</td>\n",
       "      <td>1.0</td>\n",
       "      <td>39.710131</td>\n",
       "      <td>19.538663</td>\n",
       "      <td>8.0</td>\n",
       "      <td>4.0</td>\n",
       "      <td>17.0</td>\n",
       "      <td>1986</td>\n",
       "      <td>0.100456</td>\n",
       "      <td>1</td>\n",
       "      <td>1</td>\n",
       "      <td>43</td>\n",
       "      <td>7227</td>\n",
       "      <td>0</td>\n",
       "      <td>NaN</td>\n",
       "      <td>1</td>\n",
       "      <td>6</td>\n",
       "      <td>0</td>\n",
       "      <td>182126.280899</td>\n",
       "      <td>4177.354863</td>\n",
       "    </tr>\n",
       "    <tr>\n",
       "      <th>3</th>\n",
       "      <td>16258</td>\n",
       "      <td>48</td>\n",
       "      <td>3.0</td>\n",
       "      <td>96.056784</td>\n",
       "      <td>65.163098</td>\n",
       "      <td>1.0</td>\n",
       "      <td>1.0</td>\n",
       "      <td>1.0</td>\n",
       "      <td>2017</td>\n",
       "      <td>0.041125</td>\n",
       "      <td>1</td>\n",
       "      <td>1</td>\n",
       "      <td>46</td>\n",
       "      <td>9515</td>\n",
       "      <td>5</td>\n",
       "      <td>NaN</td>\n",
       "      <td>1</td>\n",
       "      <td>10</td>\n",
       "      <td>1</td>\n",
       "      <td>524365.550705</td>\n",
       "      <td>4997.972940</td>\n",
       "    </tr>\n",
       "    <tr>\n",
       "      <th>4</th>\n",
       "      <td>10773</td>\n",
       "      <td>77</td>\n",
       "      <td>3.0</td>\n",
       "      <td>79.195825</td>\n",
       "      <td>44.421062</td>\n",
       "      <td>10.0</td>\n",
       "      <td>16.0</td>\n",
       "      <td>17.0</td>\n",
       "      <td>1984</td>\n",
       "      <td>0.298205</td>\n",
       "      <td>1</td>\n",
       "      <td>1</td>\n",
       "      <td>16</td>\n",
       "      <td>4048</td>\n",
       "      <td>3</td>\n",
       "      <td>NaN</td>\n",
       "      <td>1</td>\n",
       "      <td>3</td>\n",
       "      <td>1</td>\n",
       "      <td>322048.433990</td>\n",
       "      <td>4189.330218</td>\n",
       "    </tr>\n",
       "  </tbody>\n",
       "</table>\n",
       "</div>"
      ],
      "text/plain": [
       "      Id  DistrictId  Rooms      Square  LifeSquare  KitchenSquare  Floor  \\\n",
       "0  14604          23    1.0   41.681380   22.796166            8.0   14.0   \n",
       "1   5621          23    3.0  163.495333  161.504222           12.0    3.0   \n",
       "2    235          87    1.0   39.710131   19.538663            8.0    4.0   \n",
       "3  16258          48    3.0   96.056784   65.163098            1.0    1.0   \n",
       "4  10773          77    3.0   79.195825   44.421062           10.0   16.0   \n",
       "\n",
       "   HouseFloor  HouseYear  Ecology_1  Ecology_2  Ecology_3  Social_1  Social_2  \\\n",
       "0        17.0       2015   0.075779          1          1         6      1437   \n",
       "1         3.0       1977   0.014073          1          1         2       475   \n",
       "2        17.0       1986   0.100456          1          1        43      7227   \n",
       "3         1.0       2017   0.041125          1          1        46      9515   \n",
       "4        17.0       1984   0.298205          1          1        16      4048   \n",
       "\n",
       "   Social_3  Healthcare_1  Helthcare_2  Shops_1  Shops_2          Price  \\\n",
       "0         3           NaN            0        2        1   88504.384965   \n",
       "1         0           NaN            0        0        1  207007.956663   \n",
       "2         0           NaN            1        6        0  182126.280899   \n",
       "3         5           NaN            1       10        1  524365.550705   \n",
       "4         3           NaN            1        3        1  322048.433990   \n",
       "\n",
       "    PricePerM2  \n",
       "0  2225.145880  \n",
       "1  2225.145880  \n",
       "2  4177.354863  \n",
       "3  4997.972940  \n",
       "4  4189.330218  "
      ]
     },
     "execution_count": 475,
     "metadata": {},
     "output_type": "execute_result"
    }
   ],
   "source": [
    "train_test.head()"
   ]
  },
  {
   "cell_type": "markdown",
   "metadata": {},
   "source": [
    "добавляем среднюю стоимость в зависимости от района "
   ]
  },
  {
   "cell_type": "code",
   "execution_count": 476,
   "metadata": {},
   "outputs": [],
   "source": [
    "def add_MeanPriceByDistrict(df):\n",
    "    global PricePerM2_All\n",
    "    df = pd.merge(df, MeanPriceByDisctrict, on='DistrictId', how='left')\n",
    "    df['MeanPrice']=df['PricePerM2']*df['Square']\n",
    "    df['MeanPrice']=df['MeanPrice'].fillna(PricePerM2_All*df['Square'])\n",
    "    df=df.drop('PricePerM2', axis=1)\n",
    "    return df"
   ]
  },
  {
   "cell_type": "code",
   "execution_count": 477,
   "metadata": {},
   "outputs": [],
   "source": [
    "train=add_MeanPriceByDistrict(train)\n",
    "valid=add_MeanPriceByDistrict(valid)\n"
   ]
  },
  {
   "cell_type": "markdown",
   "metadata": {},
   "source": [
    "Там, где в train цена близка к средней цене, минимизируем утечку и переобучение и просто применняем общую среднюю стоимость за метр"
   ]
  },
  {
   "cell_type": "code",
   "execution_count": 478,
   "metadata": {},
   "outputs": [
    {
     "data": {
      "text/plain": [
       "(541,)"
      ]
     },
     "execution_count": 478,
     "metadata": {},
     "output_type": "execute_result"
    }
   ],
   "source": [
    "train.loc[abs(train['MeanPrice']/train['Price']-1)<=0.015,'MeanPrice'].shape"
   ]
  },
  {
   "cell_type": "code",
   "execution_count": 479,
   "metadata": {},
   "outputs": [],
   "source": [
    "train.loc[abs(train['MeanPrice']/train['Price']-1)<=0.015,'MeanPrice']=train['Square']*PricePerM2_All\n"
   ]
  },
  {
   "cell_type": "code",
   "execution_count": 480,
   "metadata": {},
   "outputs": [
    {
     "data": {
      "text/plain": [
       "Index(['Id', 'DistrictId', 'Rooms', 'Square', 'LifeSquare', 'KitchenSquare',\n",
       "       'Floor', 'HouseFloor', 'HouseYear', 'Ecology_1', 'Ecology_2',\n",
       "       'Ecology_3', 'Social_1', 'Social_2', 'Social_3', 'Healthcare_1',\n",
       "       'Helthcare_2', 'Shops_1', 'Shops_2', 'Price', 'MeanPrice'],\n",
       "      dtype='object')"
      ]
     },
     "execution_count": 480,
     "metadata": {},
     "output_type": "execute_result"
    }
   ],
   "source": [
    "train.columns"
   ]
  },
  {
   "cell_type": "code",
   "execution_count": 481,
   "metadata": {},
   "outputs": [
    {
     "data": {
      "text/html": [
       "<div>\n",
       "<style scoped>\n",
       "    .dataframe tbody tr th:only-of-type {\n",
       "        vertical-align: middle;\n",
       "    }\n",
       "\n",
       "    .dataframe tbody tr th {\n",
       "        vertical-align: top;\n",
       "    }\n",
       "\n",
       "    .dataframe thead th {\n",
       "        text-align: right;\n",
       "    }\n",
       "</style>\n",
       "<table border=\"1\" class=\"dataframe\">\n",
       "  <thead>\n",
       "    <tr style=\"text-align: right;\">\n",
       "      <th></th>\n",
       "      <th>Id</th>\n",
       "      <th>DistrictId</th>\n",
       "      <th>Rooms</th>\n",
       "      <th>Square</th>\n",
       "      <th>LifeSquare</th>\n",
       "      <th>KitchenSquare</th>\n",
       "      <th>Floor</th>\n",
       "      <th>HouseFloor</th>\n",
       "      <th>HouseYear</th>\n",
       "      <th>Ecology_1</th>\n",
       "      <th>Ecology_2</th>\n",
       "      <th>Ecology_3</th>\n",
       "      <th>Social_1</th>\n",
       "      <th>Social_2</th>\n",
       "      <th>Social_3</th>\n",
       "      <th>Healthcare_1</th>\n",
       "      <th>Helthcare_2</th>\n",
       "      <th>Shops_1</th>\n",
       "      <th>Shops_2</th>\n",
       "      <th>Price</th>\n",
       "      <th>MeanPrice</th>\n",
       "    </tr>\n",
       "  </thead>\n",
       "  <tbody>\n",
       "    <tr>\n",
       "      <th>0</th>\n",
       "      <td>14604</td>\n",
       "      <td>23</td>\n",
       "      <td>1.0</td>\n",
       "      <td>41.681380</td>\n",
       "      <td>22.796166</td>\n",
       "      <td>8.0</td>\n",
       "      <td>14.0</td>\n",
       "      <td>17.0</td>\n",
       "      <td>2015</td>\n",
       "      <td>0.075779</td>\n",
       "      <td>1</td>\n",
       "      <td>1</td>\n",
       "      <td>6</td>\n",
       "      <td>1437</td>\n",
       "      <td>3</td>\n",
       "      <td>NaN</td>\n",
       "      <td>0</td>\n",
       "      <td>2</td>\n",
       "      <td>1</td>\n",
       "      <td>88504.384965</td>\n",
       "      <td>92747.151123</td>\n",
       "    </tr>\n",
       "    <tr>\n",
       "      <th>1</th>\n",
       "      <td>5621</td>\n",
       "      <td>23</td>\n",
       "      <td>3.0</td>\n",
       "      <td>163.495333</td>\n",
       "      <td>161.504222</td>\n",
       "      <td>12.0</td>\n",
       "      <td>3.0</td>\n",
       "      <td>3.0</td>\n",
       "      <td>1977</td>\n",
       "      <td>0.014073</td>\n",
       "      <td>1</td>\n",
       "      <td>1</td>\n",
       "      <td>2</td>\n",
       "      <td>475</td>\n",
       "      <td>0</td>\n",
       "      <td>NaN</td>\n",
       "      <td>0</td>\n",
       "      <td>0</td>\n",
       "      <td>1</td>\n",
       "      <td>207007.956663</td>\n",
       "      <td>363800.967462</td>\n",
       "    </tr>\n",
       "    <tr>\n",
       "      <th>2</th>\n",
       "      <td>235</td>\n",
       "      <td>87</td>\n",
       "      <td>1.0</td>\n",
       "      <td>39.710131</td>\n",
       "      <td>19.538663</td>\n",
       "      <td>8.0</td>\n",
       "      <td>4.0</td>\n",
       "      <td>17.0</td>\n",
       "      <td>1986</td>\n",
       "      <td>0.100456</td>\n",
       "      <td>1</td>\n",
       "      <td>1</td>\n",
       "      <td>43</td>\n",
       "      <td>7227</td>\n",
       "      <td>0</td>\n",
       "      <td>NaN</td>\n",
       "      <td>1</td>\n",
       "      <td>6</td>\n",
       "      <td>0</td>\n",
       "      <td>182126.280899</td>\n",
       "      <td>165883.308427</td>\n",
       "    </tr>\n",
       "    <tr>\n",
       "      <th>3</th>\n",
       "      <td>16258</td>\n",
       "      <td>48</td>\n",
       "      <td>3.0</td>\n",
       "      <td>96.056784</td>\n",
       "      <td>65.163098</td>\n",
       "      <td>1.0</td>\n",
       "      <td>1.0</td>\n",
       "      <td>1.0</td>\n",
       "      <td>2017</td>\n",
       "      <td>0.041125</td>\n",
       "      <td>1</td>\n",
       "      <td>1</td>\n",
       "      <td>46</td>\n",
       "      <td>9515</td>\n",
       "      <td>5</td>\n",
       "      <td>NaN</td>\n",
       "      <td>1</td>\n",
       "      <td>10</td>\n",
       "      <td>1</td>\n",
       "      <td>524365.550705</td>\n",
       "      <td>480089.207481</td>\n",
       "    </tr>\n",
       "    <tr>\n",
       "      <th>4</th>\n",
       "      <td>10773</td>\n",
       "      <td>77</td>\n",
       "      <td>3.0</td>\n",
       "      <td>79.195825</td>\n",
       "      <td>44.421062</td>\n",
       "      <td>10.0</td>\n",
       "      <td>16.0</td>\n",
       "      <td>17.0</td>\n",
       "      <td>1984</td>\n",
       "      <td>0.298205</td>\n",
       "      <td>1</td>\n",
       "      <td>1</td>\n",
       "      <td>16</td>\n",
       "      <td>4048</td>\n",
       "      <td>3</td>\n",
       "      <td>NaN</td>\n",
       "      <td>1</td>\n",
       "      <td>3</td>\n",
       "      <td>1</td>\n",
       "      <td>322048.433990</td>\n",
       "      <td>331777.463106</td>\n",
       "    </tr>\n",
       "  </tbody>\n",
       "</table>\n",
       "</div>"
      ],
      "text/plain": [
       "      Id  DistrictId  Rooms      Square  LifeSquare  KitchenSquare  Floor  \\\n",
       "0  14604          23    1.0   41.681380   22.796166            8.0   14.0   \n",
       "1   5621          23    3.0  163.495333  161.504222           12.0    3.0   \n",
       "2    235          87    1.0   39.710131   19.538663            8.0    4.0   \n",
       "3  16258          48    3.0   96.056784   65.163098            1.0    1.0   \n",
       "4  10773          77    3.0   79.195825   44.421062           10.0   16.0   \n",
       "\n",
       "   HouseFloor  HouseYear  Ecology_1  Ecology_2  Ecology_3  Social_1  Social_2  \\\n",
       "0        17.0       2015   0.075779          1          1         6      1437   \n",
       "1         3.0       1977   0.014073          1          1         2       475   \n",
       "2        17.0       1986   0.100456          1          1        43      7227   \n",
       "3         1.0       2017   0.041125          1          1        46      9515   \n",
       "4        17.0       1984   0.298205          1          1        16      4048   \n",
       "\n",
       "   Social_3  Healthcare_1  Helthcare_2  Shops_1  Shops_2          Price  \\\n",
       "0         3           NaN            0        2        1   88504.384965   \n",
       "1         0           NaN            0        0        1  207007.956663   \n",
       "2         0           NaN            1        6        0  182126.280899   \n",
       "3         5           NaN            1       10        1  524365.550705   \n",
       "4         3           NaN            1        3        1  322048.433990   \n",
       "\n",
       "       MeanPrice  \n",
       "0   92747.151123  \n",
       "1  363800.967462  \n",
       "2  165883.308427  \n",
       "3  480089.207481  \n",
       "4  331777.463106  "
      ]
     },
     "execution_count": 481,
     "metadata": {},
     "output_type": "execute_result"
    }
   ],
   "source": [
    "train.head()"
   ]
  },
  {
   "cell_type": "code",
   "execution_count": 482,
   "metadata": {},
   "outputs": [
    {
     "name": "stdout",
     "output_type": "stream",
     "text": [
      "Price            1.000000\n",
      "MeanPrice        0.825821\n",
      "Square           0.586040\n",
      "Rooms            0.575196\n",
      "LifeSquare       0.458837\n",
      "KitchenSquare    0.307681\n",
      "Social_1         0.265278\n",
      "DistrictId       0.264105\n",
      "Helthcare_2      0.253601\n",
      "Social_2         0.240089\n",
      "Shops_1          0.183545\n",
      "Healthcare_1     0.131895\n",
      "Floor            0.104854\n",
      "HouseFloor       0.093825\n",
      "Social_3         0.076234\n",
      "Shops_2          0.061129\n",
      "HouseYear        0.035048\n",
      "Ecology_2        0.030568\n",
      "Id               0.019332\n",
      "Ecology_3       -0.051992\n",
      "Ecology_1       -0.064129\n",
      "Name: Price, dtype: float64\n"
     ]
    }
   ],
   "source": [
    "train_corr=train.corr()\n",
    "print(train_corr['Price'].sort_values(ascending=False))"
   ]
  },
  {
   "cell_type": "code",
   "execution_count": 483,
   "metadata": {},
   "outputs": [
    {
     "name": "stdout",
     "output_type": "stream",
     "text": [
      "['DistrictId', 'Rooms', 'Square', 'LifeSquare', 'KitchenSquare', 'Floor', 'HouseFloor', 'Ecology_1', 'Ecology_3', 'Social_1', 'Social_2', 'Social_3', 'Helthcare_2', 'Shops_1', 'Shops_2', 'MeanPrice']\n"
     ]
    }
   ],
   "source": [
    "high_corr=[\n",
    "    feature \n",
    "    for feature in ['DistrictId', 'Rooms', 'Square', 'LifeSquare', 'KitchenSquare',\n",
    "       'Floor', 'HouseFloor', 'HouseYear', 'Ecology_1', 'Ecology_2',\n",
    "       'Ecology_3', 'Social_1', 'Social_2', 'Social_3', \n",
    "       'Helthcare_2', 'Shops_1', 'Shops_2', \n",
    "       'MeanPrice']\n",
    "    if abs(train_corr.loc[\"Price\",feature])>0.05]\n",
    "\n",
    "print(high_corr)"
   ]
  },
  {
   "cell_type": "code",
   "execution_count": 484,
   "metadata": {},
   "outputs": [
    {
     "data": {
      "text/plain": [
       "Index(['DistrictId', 'Rooms', 'Square', 'LifeSquare', 'KitchenSquare', 'Floor',\n",
       "       'HouseFloor', 'HouseYear', 'Ecology_1', 'Ecology_2', 'Ecology_3',\n",
       "       'Social_1', 'Social_2', 'Social_3', 'Helthcare_2', 'Shops_1', 'Shops_2',\n",
       "       'MeanPrice'],\n",
       "      dtype='object')"
      ]
     },
     "execution_count": 484,
     "metadata": {},
     "output_type": "execute_result"
    }
   ],
   "source": [
    "def get_feats(df, feats_list):\n",
    "    feats = df.loc[:,feats_list]\n",
    "    return feats\n",
    "feats_list=['DistrictId', 'Rooms', 'Square', 'LifeSquare', 'KitchenSquare',\n",
    "       'Floor', 'HouseFloor', 'HouseYear', 'Ecology_1', 'Ecology_2',\n",
    "       'Ecology_3', 'Social_1', 'Social_2', 'Social_3', \n",
    "       'Helthcare_2', 'Shops_1', 'Shops_2', \n",
    "       'MeanPrice']\n",
    "\n",
    "#feats_list=high_corr\n",
    "train_feats=get_feats(train,feats_list=feats_list)\n",
    "train_feats.columns"
   ]
  },
  {
   "cell_type": "code",
   "execution_count": 485,
   "metadata": {},
   "outputs": [],
   "source": [
    "valid_feats=get_feats(valid, feats_list=feats_list)\n"
   ]
  },
  {
   "cell_type": "code",
   "execution_count": 486,
   "metadata": {},
   "outputs": [],
   "source": [
    "from sklearn.preprocessing import RobustScaler\n",
    "\n",
    "scaler = RobustScaler()"
   ]
  },
  {
   "cell_type": "code",
   "execution_count": 487,
   "metadata": {},
   "outputs": [],
   "source": [
    "feats_train_scaled = scaler.fit_transform(train_feats)\n",
    "feats_train_scaled = pd.DataFrame(feats_train_scaled, columns=train_feats.columns)\n",
    "\n",
    "feats_valid_scaled = scaler.fit_transform(valid_feats)\n",
    "feats_valid_scaled = pd.DataFrame(feats_valid_scaled, columns=valid_feats.columns)"
   ]
  },
  {
   "cell_type": "markdown",
   "metadata": {},
   "source": [
    "## Random Forest "
   ]
  },
  {
   "cell_type": "code",
   "execution_count": 488,
   "metadata": {},
   "outputs": [],
   "source": [
    "from sklearn.ensemble import RandomForestRegressor as RFR\n",
    "from sklearn.metrics import r2_score as r2"
   ]
  },
  {
   "cell_type": "code",
   "execution_count": 489,
   "metadata": {},
   "outputs": [],
   "source": [
    "from sklearn.model_selection import GridSearchCV"
   ]
  },
  {
   "cell_type": "markdown",
   "metadata": {},
   "source": [
    "clf.best_params_={'max_depth': 13, 'max_features': 5, 'n_estimators': 300}"
   ]
  },
  {
   "cell_type": "code",
   "execution_count": 560,
   "metadata": {},
   "outputs": [],
   "source": [
    "def evaluate_model(model, train_df, valid_df, metric,   max_depth):\n",
    "    rfr = model(max_depth=max_depth, random_state=42, n_estimators=300, max_features=3, min_samples_leaf=1 )\n",
    "    rfr.fit(train_df, train['Price'])\n",
    "    y_pred_train = rfr.predict(train_df)\n",
    "    y_pred_valid = rfr.predict(valid_df)\n",
    "    metric_train = metric(train['Price'], y_pred_train)\n",
    "    metric_valid = metric(valid['Price'], y_pred_valid)\n",
    "\n",
    "    return metric_train, metric_valid"
   ]
  },
  {
   "cell_type": "code",
   "execution_count": 561,
   "metadata": {},
   "outputs": [],
   "source": [
    "def check_param(min_value, max_value, model, train_df, valid_df, metric=r2):\n",
    "    max_depth_arr = []\n",
    "    metric_train_arr = []\n",
    "    metric_valid_arr = []\n",
    "\n",
    "    for i in range(min_value, max_value+1):\n",
    "        res = evaluate_model(model, train_df, valid_df, metric, max_depth=i)\n",
    "        max_depth_arr.append(i)\n",
    "        metric_train_arr.append(res[0])\n",
    "        metric_valid_arr.append(res[1])\n",
    "    return max_depth_arr, metric_train_arr, metric_valid_arr"
   ]
  },
  {
   "cell_type": "code",
   "execution_count": 562,
   "metadata": {},
   "outputs": [],
   "source": [
    "max_depth_arr, metric_train_arr, metric_valid_arr = check_param(min_value=1, max_value=20, model = RFR, train_df=feats_train_scaled, valid_df=feats_valid_scaled)"
   ]
  },
  {
   "cell_type": "code",
   "execution_count": 563,
   "metadata": {},
   "outputs": [
    {
     "data": {
      "text/plain": [
       "Text(0, 0.5, 'R2')"
      ]
     },
     "execution_count": 563,
     "metadata": {},
     "output_type": "execute_result"
    },
    {
     "data": {
      "image/png": "[encoded data removed]",
      "text/plain": [
       "<Figure size 576x360 with 1 Axes>"
      ]
     },
     "metadata": {},
     "output_type": "display_data"
    }
   ],
   "source": [
    "plt.plot(max_depth_arr, metric_train_arr, label=\"Train\")\n",
    "plt.plot(max_depth_arr, metric_valid_arr, label=\"Valid\")\n",
    "plt.legend(loc=\"best\", frameon=False)\n",
    "plt.xlabel('max_depth')\n",
    "plt.ylabel('R2')"
   ]
  },
  {
   "cell_type": "code",
   "execution_count": 564,
   "metadata": {},
   "outputs": [
    {
     "data": {
      "text/plain": [
       "0.7259868752203161"
      ]
     },
     "execution_count": 564,
     "metadata": {},
     "output_type": "execute_result"
    }
   ],
   "source": [
    "np.max(metric_valid_arr)"
   ]
  },
  {
   "cell_type": "code",
   "execution_count": 565,
   "metadata": {},
   "outputs": [
    {
     "data": {
      "text/plain": [
       "14"
      ]
     },
     "execution_count": 565,
     "metadata": {},
     "output_type": "execute_result"
    }
   ],
   "source": [
    "metric_valid_arr.index(np.max(metric_valid_arr))+1"
   ]
  },
  {
   "cell_type": "code",
   "execution_count": 566,
   "metadata": {},
   "outputs": [],
   "source": [
    "def evaluate_model2(model, train_df, valid_df, metric, max_features):\n",
    "    rfr = model(max_depth=15, random_state=42, n_estimators=300, max_features=max_features, min_samples_leaf=1 )\n",
    "    rfr.fit(train_df, train['Price'])\n",
    "    y_pred_train = rfr.predict(train_df)\n",
    "    y_pred_valid = rfr.predict(valid_df)\n",
    "    metric_train = metric(train['Price'], y_pred_train)\n",
    "    metric_valid = metric(valid['Price'], y_pred_valid)\n",
    "\n",
    "    return metric_train, metric_valid"
   ]
  },
  {
   "cell_type": "code",
   "execution_count": 567,
   "metadata": {},
   "outputs": [],
   "source": [
    "def check_param2(min_value, max_value, model, train_df, valid_df, metric=r2):\n",
    "    max_features_arr = []\n",
    "    metric_train_arr = []\n",
    "    metric_valid_arr = []\n",
    "\n",
    "    for i in range(min_value, max_value+1):\n",
    "        res = evaluate_model2(model, train_df, valid_df, metric, max_features=i)\n",
    "        max_features_arr.append(i)\n",
    "        metric_train_arr.append(res[0])\n",
    "        metric_valid_arr.append(res[1])\n",
    "    return max_features_arr, metric_train_arr, metric_valid_arr"
   ]
  },
  {
   "cell_type": "code",
   "execution_count": 568,
   "metadata": {},
   "outputs": [],
   "source": [
    "max_features_arr, metric_train_arr, metric_valid_arr = check_param2(min_value=1, max_value=len(feats_list), model = RFR, train_df=feats_train_scaled, valid_df=feats_valid_scaled)"
   ]
  },
  {
   "cell_type": "code",
   "execution_count": 569,
   "metadata": {},
   "outputs": [
    {
     "data": {
      "image/png": "[encoded data removed]",
      "text/plain": [
       "<Figure size 576x360 with 1 Axes>"
      ]
     },
     "metadata": {},
     "output_type": "display_data"
    }
   ],
   "source": [
    "plt.plot(max_features_arr, metric_train_arr, label='Train')\n",
    "plt.plot(max_features_arr, metric_valid_arr, label='Valid')\n",
    "plt.legend(loc=\"best\", frameon=False)\n",
    "plt.xlabel('max_features')\n",
    "plt.ylabel('R2')\n",
    "plt.show()"
   ]
  },
  {
   "cell_type": "code",
   "execution_count": 570,
   "metadata": {},
   "outputs": [
    {
     "data": {
      "text/plain": [
       "0.7259657056545338"
      ]
     },
     "execution_count": 570,
     "metadata": {},
     "output_type": "execute_result"
    }
   ],
   "source": [
    "np.max(metric_valid_arr)"
   ]
  },
  {
   "cell_type": "code",
   "execution_count": 571,
   "metadata": {},
   "outputs": [
    {
     "data": {
      "text/plain": [
       "3"
      ]
     },
     "execution_count": 571,
     "metadata": {},
     "output_type": "execute_result"
    }
   ],
   "source": [
    "metric_valid_arr.index(np.max(metric_valid_arr))+1"
   ]
  },
  {
   "cell_type": "code",
   "execution_count": 612,
   "metadata": {},
   "outputs": [],
   "source": [
    "model = RFR(max_depth=14, random_state=42, n_estimators=265, max_features=3, min_samples_leaf=1)"
   ]
  },
  {
   "cell_type": "code",
   "execution_count": 613,
   "metadata": {},
   "outputs": [
    {
     "data": {
      "text/plain": [
       "RandomForestRegressor(bootstrap=True, criterion='mse', max_depth=14,\n",
       "           max_features=3, max_leaf_nodes=None, min_impurity_decrease=0.0,\n",
       "           min_impurity_split=None, min_samples_leaf=1,\n",
       "           min_samples_split=2, min_weight_fraction_leaf=0.0,\n",
       "           n_estimators=265, n_jobs=None, oob_score=False, random_state=42,\n",
       "           verbose=0, warm_start=False)"
      ]
     },
     "execution_count": 613,
     "metadata": {},
     "output_type": "execute_result"
    }
   ],
   "source": [
    "model.fit(feats_train_scaled,train['Price'])"
   ]
  },
  {
   "cell_type": "code",
   "execution_count": 614,
   "metadata": {},
   "outputs": [],
   "source": [
    "y_train_pred=model.predict(feats_train_scaled)"
   ]
  },
  {
   "cell_type": "code",
   "execution_count": 615,
   "metadata": {},
   "outputs": [],
   "source": [
    "y_valid_pred=model.predict(feats_valid_scaled)"
   ]
  },
  {
   "cell_type": "code",
   "execution_count": 616,
   "metadata": {},
   "outputs": [
    {
     "data": {
      "text/plain": [
       "0.9348374623083912"
      ]
     },
     "execution_count": 616,
     "metadata": {},
     "output_type": "execute_result"
    }
   ],
   "source": [
    "r2(train['Price'], y_train_pred)"
   ]
  },
  {
   "cell_type": "code",
   "execution_count": 617,
   "metadata": {},
   "outputs": [
    {
     "data": {
      "text/plain": [
       "0.7264690050884796"
      ]
     },
     "execution_count": 617,
     "metadata": {},
     "output_type": "execute_result"
    }
   ],
   "source": [
    "r2(valid['Price'], y_valid_pred)"
   ]
  },
  {
   "cell_type": "markdown",
   "metadata": {},
   "source": [
    "## TEST"
   ]
  },
  {
   "cell_type": "code",
   "execution_count": 618,
   "metadata": {},
   "outputs": [],
   "source": [
    "test=pd.read_csv('input/test.csv')"
   ]
  },
  {
   "cell_type": "code",
   "execution_count": 619,
   "metadata": {},
   "outputs": [],
   "source": [
    "clean_rooms(test, Sq_room_ratio=Sq_room_ratio)"
   ]
  },
  {
   "cell_type": "code",
   "execution_count": 620,
   "metadata": {},
   "outputs": [],
   "source": [
    "clean_Square(test,Square_min=Square_min, Square_max=Square_max, LifeSq_ratio=LifeSq_ratio, Sq_room_ratio=Sq_room_ratio)"
   ]
  },
  {
   "cell_type": "code",
   "execution_count": 621,
   "metadata": {},
   "outputs": [],
   "source": [
    "fill_LifeSquare(test, LifeSq_ratio=LifeSq_ratio)"
   ]
  },
  {
   "cell_type": "code",
   "execution_count": 622,
   "metadata": {},
   "outputs": [],
   "source": [
    "add_clean_rooms(test)"
   ]
  },
  {
   "cell_type": "code",
   "execution_count": 623,
   "metadata": {},
   "outputs": [],
   "source": [
    "cleanKitchenSquare(test)"
   ]
  },
  {
   "cell_type": "code",
   "execution_count": 624,
   "metadata": {},
   "outputs": [],
   "source": [
    "clean_HouseYear(test, mean_year)"
   ]
  },
  {
   "cell_type": "code",
   "execution_count": 625,
   "metadata": {},
   "outputs": [],
   "source": [
    "clean_HouseFloor(test)\n",
    "clean_Floor(test, mean_floor)"
   ]
  },
  {
   "cell_type": "code",
   "execution_count": 626,
   "metadata": {},
   "outputs": [],
   "source": [
    "clean_Ecology(test)\n",
    "clean_shops(test)"
   ]
  },
  {
   "cell_type": "code",
   "execution_count": 627,
   "metadata": {},
   "outputs": [],
   "source": [
    "test=add_MeanPriceByDistrict(test)"
   ]
  },
  {
   "cell_type": "code",
   "execution_count": 628,
   "metadata": {},
   "outputs": [],
   "source": [
    "test_feats=get_feats(test,feats_list=feats_list)"
   ]
  },
  {
   "cell_type": "code",
   "execution_count": 629,
   "metadata": {},
   "outputs": [],
   "source": [
    "feats_test_scaled = scaler.fit_transform(test_feats)\n",
    "feats_test_scaled = pd.DataFrame(feats_test_scaled, columns=test_feats.columns)"
   ]
  },
  {
   "cell_type": "code",
   "execution_count": 630,
   "metadata": {},
   "outputs": [],
   "source": [
    "test['Price']=model.predict(feats_test_scaled)"
   ]
  },
  {
   "cell_type": "code",
   "execution_count": 631,
   "metadata": {},
   "outputs": [
    {
     "data": {
      "text/html": [
       "<div>\n",
       "<style scoped>\n",
       "    .dataframe tbody tr th:only-of-type {\n",
       "        vertical-align: middle;\n",
       "    }\n",
       "\n",
       "    .dataframe tbody tr th {\n",
       "        vertical-align: top;\n",
       "    }\n",
       "\n",
       "    .dataframe thead th {\n",
       "        text-align: right;\n",
       "    }\n",
       "</style>\n",
       "<table border=\"1\" class=\"dataframe\">\n",
       "  <thead>\n",
       "    <tr style=\"text-align: right;\">\n",
       "      <th></th>\n",
       "      <th>Id</th>\n",
       "      <th>DistrictId</th>\n",
       "      <th>Rooms</th>\n",
       "      <th>Square</th>\n",
       "      <th>LifeSquare</th>\n",
       "      <th>KitchenSquare</th>\n",
       "      <th>Floor</th>\n",
       "      <th>HouseFloor</th>\n",
       "      <th>HouseYear</th>\n",
       "      <th>Ecology_1</th>\n",
       "      <th>Ecology_2</th>\n",
       "      <th>Ecology_3</th>\n",
       "      <th>Social_1</th>\n",
       "      <th>Social_2</th>\n",
       "      <th>Social_3</th>\n",
       "      <th>Healthcare_1</th>\n",
       "      <th>Helthcare_2</th>\n",
       "      <th>Shops_1</th>\n",
       "      <th>Shops_2</th>\n",
       "      <th>MeanPrice</th>\n",
       "      <th>Price</th>\n",
       "    </tr>\n",
       "  </thead>\n",
       "  <tbody>\n",
       "    <tr>\n",
       "      <th>0</th>\n",
       "      <td>725</td>\n",
       "      <td>58</td>\n",
       "      <td>2.0</td>\n",
       "      <td>49.882643</td>\n",
       "      <td>33.432782</td>\n",
       "      <td>6.0</td>\n",
       "      <td>6.0</td>\n",
       "      <td>14.0</td>\n",
       "      <td>1972</td>\n",
       "      <td>0.310199</td>\n",
       "      <td>1</td>\n",
       "      <td>1</td>\n",
       "      <td>11</td>\n",
       "      <td>2748</td>\n",
       "      <td>1</td>\n",
       "      <td>NaN</td>\n",
       "      <td>0</td>\n",
       "      <td>0</td>\n",
       "      <td>1</td>\n",
       "      <td>141220.898530</td>\n",
       "      <td>158309.249300</td>\n",
       "    </tr>\n",
       "    <tr>\n",
       "      <th>1</th>\n",
       "      <td>15856</td>\n",
       "      <td>74</td>\n",
       "      <td>2.0</td>\n",
       "      <td>69.263183</td>\n",
       "      <td>46.986829</td>\n",
       "      <td>1.0</td>\n",
       "      <td>1.0</td>\n",
       "      <td>1.0</td>\n",
       "      <td>1977</td>\n",
       "      <td>0.075779</td>\n",
       "      <td>1</td>\n",
       "      <td>1</td>\n",
       "      <td>6</td>\n",
       "      <td>1437</td>\n",
       "      <td>3</td>\n",
       "      <td>NaN</td>\n",
       "      <td>0</td>\n",
       "      <td>2</td>\n",
       "      <td>1</td>\n",
       "      <td>228872.788273</td>\n",
       "      <td>226841.509410</td>\n",
       "    </tr>\n",
       "    <tr>\n",
       "      <th>2</th>\n",
       "      <td>5480</td>\n",
       "      <td>190</td>\n",
       "      <td>1.0</td>\n",
       "      <td>13.597819</td>\n",
       "      <td>9.224502</td>\n",
       "      <td>12.0</td>\n",
       "      <td>2.0</td>\n",
       "      <td>5.0</td>\n",
       "      <td>1909</td>\n",
       "      <td>0.000000</td>\n",
       "      <td>1</td>\n",
       "      <td>1</td>\n",
       "      <td>30</td>\n",
       "      <td>7538</td>\n",
       "      <td>87</td>\n",
       "      <td>4702.0</td>\n",
       "      <td>5</td>\n",
       "      <td>5</td>\n",
       "      <td>1</td>\n",
       "      <td>108833.610753</td>\n",
       "      <td>180803.823023</td>\n",
       "    </tr>\n",
       "    <tr>\n",
       "      <th>3</th>\n",
       "      <td>15664</td>\n",
       "      <td>47</td>\n",
       "      <td>2.0</td>\n",
       "      <td>73.046609</td>\n",
       "      <td>51.940842</td>\n",
       "      <td>9.0</td>\n",
       "      <td>22.0</td>\n",
       "      <td>22.0</td>\n",
       "      <td>2007</td>\n",
       "      <td>0.101872</td>\n",
       "      <td>1</td>\n",
       "      <td>1</td>\n",
       "      <td>23</td>\n",
       "      <td>4583</td>\n",
       "      <td>3</td>\n",
       "      <td>NaN</td>\n",
       "      <td>3</td>\n",
       "      <td>3</td>\n",
       "      <td>1</td>\n",
       "      <td>295396.711832</td>\n",
       "      <td>316856.189610</td>\n",
       "    </tr>\n",
       "    <tr>\n",
       "      <th>4</th>\n",
       "      <td>14275</td>\n",
       "      <td>27</td>\n",
       "      <td>1.0</td>\n",
       "      <td>47.527111</td>\n",
       "      <td>43.387569</td>\n",
       "      <td>1.0</td>\n",
       "      <td>17.0</td>\n",
       "      <td>17.0</td>\n",
       "      <td>2017</td>\n",
       "      <td>0.072158</td>\n",
       "      <td>1</td>\n",
       "      <td>1</td>\n",
       "      <td>2</td>\n",
       "      <td>629</td>\n",
       "      <td>1</td>\n",
       "      <td>NaN</td>\n",
       "      <td>0</td>\n",
       "      <td>0</td>\n",
       "      <td>0</td>\n",
       "      <td>129268.861061</td>\n",
       "      <td>141698.412222</td>\n",
       "    </tr>\n",
       "  </tbody>\n",
       "</table>\n",
       "</div>"
      ],
      "text/plain": [
       "      Id  DistrictId  Rooms     Square  LifeSquare  KitchenSquare  Floor  \\\n",
       "0    725          58    2.0  49.882643   33.432782            6.0    6.0   \n",
       "1  15856          74    2.0  69.263183   46.986829            1.0    1.0   \n",
       "2   5480         190    1.0  13.597819    9.224502           12.0    2.0   \n",
       "3  15664          47    2.0  73.046609   51.940842            9.0   22.0   \n",
       "4  14275          27    1.0  47.527111   43.387569            1.0   17.0   \n",
       "\n",
       "   HouseFloor  HouseYear  Ecology_1  Ecology_2  Ecology_3  Social_1  Social_2  \\\n",
       "0        14.0       1972   0.310199          1          1        11      2748   \n",
       "1         1.0       1977   0.075779          1          1         6      1437   \n",
       "2         5.0       1909   0.000000          1          1        30      7538   \n",
       "3        22.0       2007   0.101872          1          1        23      4583   \n",
       "4        17.0       2017   0.072158          1          1         2       629   \n",
       "\n",
       "   Social_3  Healthcare_1  Helthcare_2  Shops_1  Shops_2      MeanPrice  \\\n",
       "0         1           NaN            0        0        1  141220.898530   \n",
       "1         3           NaN            0        2        1  228872.788273   \n",
       "2        87        4702.0            5        5        1  108833.610753   \n",
       "3         3           NaN            3        3        1  295396.711832   \n",
       "4         1           NaN            0        0        0  129268.861061   \n",
       "\n",
       "           Price  \n",
       "0  158309.249300  \n",
       "1  226841.509410  \n",
       "2  180803.823023  \n",
       "3  316856.189610  \n",
       "4  141698.412222  "
      ]
     },
     "execution_count": 631,
     "metadata": {},
     "output_type": "execute_result"
    }
   ],
   "source": [
    "test.head()"
   ]
  },
  {
   "cell_type": "code",
   "execution_count": 632,
   "metadata": {},
   "outputs": [
    {
     "name": "stdout",
     "output_type": "stream",
     "text": [
      "<class 'pandas.core.frame.DataFrame'>\n",
      "Int64Index: 5000 entries, 0 to 4999\n",
      "Data columns (total 21 columns):\n",
      "Id               5000 non-null int64\n",
      "DistrictId       5000 non-null int64\n",
      "Rooms            5000 non-null float64\n",
      "Square           5000 non-null float64\n",
      "LifeSquare       5000 non-null float64\n",
      "KitchenSquare    5000 non-null float64\n",
      "Floor            5000 non-null float64\n",
      "HouseFloor       5000 non-null float64\n",
      "HouseYear        5000 non-null int64\n",
      "Ecology_1        5000 non-null float64\n",
      "Ecology_2        5000 non-null int64\n",
      "Ecology_3        5000 non-null int64\n",
      "Social_1         5000 non-null int64\n",
      "Social_2         5000 non-null int64\n",
      "Social_3         5000 non-null int64\n",
      "Healthcare_1     2623 non-null float64\n",
      "Helthcare_2      5000 non-null int64\n",
      "Shops_1          5000 non-null int64\n",
      "Shops_2          5000 non-null int64\n",
      "MeanPrice        5000 non-null float64\n",
      "Price            5000 non-null float64\n",
      "dtypes: float64(10), int64(11)\n",
      "memory usage: 859.4 KB\n"
     ]
    }
   ],
   "source": [
    "test.info()"
   ]
  },
  {
   "cell_type": "code",
   "execution_count": 640,
   "metadata": {},
   "outputs": [],
   "source": [
    "test.loc[:, ['Id', 'Price']].to_csv('RIrnazarova_predictions.csv', index=None)"
   ]
  },
  {
   "cell_type": "code",
   "execution_count": 641,
   "metadata": {},
   "outputs": [],
   "source": [
    "test.to_csv('Test_ALL_predictions.csv', index=None)"
   ]
  },
  {
   "cell_type": "code",
   "execution_count": 642,
   "metadata": {},
   "outputs": [
    {
     "data": {
      "text/html": [
       "<div>\n",
       "<style scoped>\n",
       "    .dataframe tbody tr th:only-of-type {\n",
       "        vertical-align: middle;\n",
       "    }\n",
       "\n",
       "    .dataframe tbody tr th {\n",
       "        vertical-align: top;\n",
       "    }\n",
       "\n",
       "    .dataframe thead th {\n",
       "        text-align: right;\n",
       "    }\n",
       "</style>\n",
       "<table border=\"1\" class=\"dataframe\">\n",
       "  <thead>\n",
       "    <tr style=\"text-align: right;\">\n",
       "      <th></th>\n",
       "      <th>Square</th>\n",
       "      <th>Price</th>\n",
       "      <th>Price2</th>\n",
       "    </tr>\n",
       "    <tr>\n",
       "      <th>Rooms</th>\n",
       "      <th></th>\n",
       "      <th></th>\n",
       "      <th></th>\n",
       "    </tr>\n",
       "  </thead>\n",
       "  <tbody>\n",
       "    <tr>\n",
       "      <th>1.0</th>\n",
       "      <td>41.249392</td>\n",
       "      <td>160112.656260</td>\n",
       "      <td>160578.682626</td>\n",
       "    </tr>\n",
       "    <tr>\n",
       "      <th>2.0</th>\n",
       "      <td>56.598529</td>\n",
       "      <td>215158.205286</td>\n",
       "      <td>214830.273854</td>\n",
       "    </tr>\n",
       "    <tr>\n",
       "      <th>3.0</th>\n",
       "      <td>77.250062</td>\n",
       "      <td>291006.601434</td>\n",
       "      <td>290421.212273</td>\n",
       "    </tr>\n",
       "    <tr>\n",
       "      <th>4.0</th>\n",
       "      <td>98.651884</td>\n",
       "      <td>385776.526291</td>\n",
       "      <td>383103.216486</td>\n",
       "    </tr>\n",
       "    <tr>\n",
       "      <th>5.0</th>\n",
       "      <td>118.205928</td>\n",
       "      <td>417315.881296</td>\n",
       "      <td>414868.943468</td>\n",
       "    </tr>\n",
       "  </tbody>\n",
       "</table>\n",
       "</div>"
      ],
      "text/plain": [
       "           Square          Price         Price2\n",
       "Rooms                                          \n",
       "1.0     41.249392  160112.656260  160578.682626\n",
       "2.0     56.598529  215158.205286  214830.273854\n",
       "3.0     77.250062  291006.601434  290421.212273\n",
       "4.0     98.651884  385776.526291  383103.216486\n",
       "5.0    118.205928  417315.881296  414868.943468"
      ]
     },
     "execution_count": 642,
     "metadata": {},
     "output_type": "execute_result"
    }
   ],
   "source": [
    "train['Price2']=model.predict(feats_train_scaled)\n",
    "train.groupby(['Rooms'])[['Square','Price', 'Price2']].mean()"
   ]
  },
  {
   "cell_type": "code",
   "execution_count": 643,
   "metadata": {},
   "outputs": [
    {
     "data": {
      "text/html": [
       "<div>\n",
       "<style scoped>\n",
       "    .dataframe tbody tr th:only-of-type {\n",
       "        vertical-align: middle;\n",
       "    }\n",
       "\n",
       "    .dataframe tbody tr th {\n",
       "        vertical-align: top;\n",
       "    }\n",
       "\n",
       "    .dataframe thead th {\n",
       "        text-align: right;\n",
       "    }\n",
       "</style>\n",
       "<table border=\"1\" class=\"dataframe\">\n",
       "  <thead>\n",
       "    <tr style=\"text-align: right;\">\n",
       "      <th></th>\n",
       "      <th>Square</th>\n",
       "      <th>Price</th>\n",
       "      <th>Price2</th>\n",
       "    </tr>\n",
       "    <tr>\n",
       "      <th>Rooms</th>\n",
       "      <th></th>\n",
       "      <th></th>\n",
       "      <th></th>\n",
       "    </tr>\n",
       "  </thead>\n",
       "  <tbody>\n",
       "    <tr>\n",
       "      <th>1.0</th>\n",
       "      <td>41.243409</td>\n",
       "      <td>159116.560176</td>\n",
       "      <td>160849.113421</td>\n",
       "    </tr>\n",
       "    <tr>\n",
       "      <th>2.0</th>\n",
       "      <td>56.245254</td>\n",
       "      <td>214976.811711</td>\n",
       "      <td>215616.988771</td>\n",
       "    </tr>\n",
       "    <tr>\n",
       "      <th>3.0</th>\n",
       "      <td>76.726346</td>\n",
       "      <td>286708.649663</td>\n",
       "      <td>289778.086077</td>\n",
       "    </tr>\n",
       "    <tr>\n",
       "      <th>4.0</th>\n",
       "      <td>98.704706</td>\n",
       "      <td>378097.664880</td>\n",
       "      <td>370757.716349</td>\n",
       "    </tr>\n",
       "    <tr>\n",
       "      <th>5.0</th>\n",
       "      <td>138.608445</td>\n",
       "      <td>457807.744145</td>\n",
       "      <td>429519.452964</td>\n",
       "    </tr>\n",
       "    <tr>\n",
       "      <th>8.0</th>\n",
       "      <td>212.932361</td>\n",
       "      <td>302211.260887</td>\n",
       "      <td>348641.598647</td>\n",
       "    </tr>\n",
       "  </tbody>\n",
       "</table>\n",
       "</div>"
      ],
      "text/plain": [
       "           Square          Price         Price2\n",
       "Rooms                                          \n",
       "1.0     41.243409  159116.560176  160849.113421\n",
       "2.0     56.245254  214976.811711  215616.988771\n",
       "3.0     76.726346  286708.649663  289778.086077\n",
       "4.0     98.704706  378097.664880  370757.716349\n",
       "5.0    138.608445  457807.744145  429519.452964\n",
       "8.0    212.932361  302211.260887  348641.598647"
      ]
     },
     "execution_count": 643,
     "metadata": {},
     "output_type": "execute_result"
    }
   ],
   "source": [
    "valid['Price2']=model.predict(feats_valid_scaled)\n",
    "valid.groupby(['Rooms'])[['Square','Price','Price2']].mean()"
   ]
  },
  {
   "cell_type": "code",
   "execution_count": 644,
   "metadata": {},
   "outputs": [
    {
     "data": {
      "text/plain": [
       "2.0    1160\n",
       "1.0    1113\n",
       "3.0     673\n",
       "4.0      47\n",
       "5.0       6\n",
       "8.0       1\n",
       "Name: Rooms, dtype: int64"
      ]
     },
     "execution_count": 644,
     "metadata": {},
     "output_type": "execute_result"
    }
   ],
   "source": [
    "valid['Rooms'].value_counts()"
   ]
  },
  {
   "cell_type": "code",
   "execution_count": 645,
   "metadata": {},
   "outputs": [
    {
     "data": {
      "text/html": [
       "<div>\n",
       "<style scoped>\n",
       "    .dataframe tbody tr th:only-of-type {\n",
       "        vertical-align: middle;\n",
       "    }\n",
       "\n",
       "    .dataframe tbody tr th {\n",
       "        vertical-align: top;\n",
       "    }\n",
       "\n",
       "    .dataframe thead th {\n",
       "        text-align: right;\n",
       "    }\n",
       "</style>\n",
       "<table border=\"1\" class=\"dataframe\">\n",
       "  <thead>\n",
       "    <tr style=\"text-align: right;\">\n",
       "      <th></th>\n",
       "      <th>Square</th>\n",
       "      <th>Price</th>\n",
       "    </tr>\n",
       "    <tr>\n",
       "      <th>Rooms</th>\n",
       "      <th></th>\n",
       "      <th></th>\n",
       "    </tr>\n",
       "  </thead>\n",
       "  <tbody>\n",
       "    <tr>\n",
       "      <th>1.0</th>\n",
       "      <td>41.030384</td>\n",
       "      <td>161612.472743</td>\n",
       "    </tr>\n",
       "    <tr>\n",
       "      <th>2.0</th>\n",
       "      <td>56.710740</td>\n",
       "      <td>215450.704578</td>\n",
       "    </tr>\n",
       "    <tr>\n",
       "      <th>3.0</th>\n",
       "      <td>77.238393</td>\n",
       "      <td>287079.292385</td>\n",
       "    </tr>\n",
       "    <tr>\n",
       "      <th>4.0</th>\n",
       "      <td>95.310586</td>\n",
       "      <td>372787.576742</td>\n",
       "    </tr>\n",
       "    <tr>\n",
       "      <th>5.0</th>\n",
       "      <td>124.392405</td>\n",
       "      <td>364266.745461</td>\n",
       "    </tr>\n",
       "    <tr>\n",
       "      <th>8.0</th>\n",
       "      <td>223.453689</td>\n",
       "      <td>459039.091219</td>\n",
       "    </tr>\n",
       "  </tbody>\n",
       "</table>\n",
       "</div>"
      ],
      "text/plain": [
       "           Square          Price\n",
       "Rooms                           \n",
       "1.0     41.030384  161612.472743\n",
       "2.0     56.710740  215450.704578\n",
       "3.0     77.238393  287079.292385\n",
       "4.0     95.310586  372787.576742\n",
       "5.0    124.392405  364266.745461\n",
       "8.0    223.453689  459039.091219"
      ]
     },
     "execution_count": 645,
     "metadata": {},
     "output_type": "execute_result"
    }
   ],
   "source": [
    "test.groupby(['Rooms'])[['Square','Price']].mean()"
   ]
  },
  {
   "cell_type": "code",
   "execution_count": 639,
   "metadata": {},
   "outputs": [
    {
     "data": {
      "text/plain": [
       "2.0    2034\n",
       "1.0    1769\n",
       "3.0    1099\n",
       "4.0      90\n",
       "5.0       7\n",
       "8.0       1\n",
       "Name: Rooms, dtype: int64"
      ]
     },
     "execution_count": 639,
     "metadata": {},
     "output_type": "execute_result"
    }
   ],
   "source": [
    "test['Rooms'].value_counts()"
   ]
  },
  {
   "cell_type": "code",
   "execution_count": null,
   "metadata": {},
   "outputs": [],
   "source": []
  }
 ],
 "metadata": {
  "kernelspec": {
   "display_name": "Python 3",
   "language": "python",
   "name": "python3"
  }
 },
 "nbformat": 4,
 "nbformat_minor": 2
}
